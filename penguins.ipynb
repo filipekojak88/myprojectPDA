{
 "cells": [
  {
   "cell_type": "markdown",
   "metadata": {},
   "source": [
    "# Palmer Penguins\n",
    "\n",
    "![Introduction to Penguins](images/iter_penguins.png)     \n",
    "*Palmer Penguins* [[14]](#14)         \n",
    "\n",
    "This notebook contains an analysis of the famous palmer penguins dataset and serves as a comprehensive guide for analyzing the Palmer Penguins dataset, offering users a structured approach to understand and interpret its various aspects [[11]](#11). Each section focus on a specific aspect of the dataset analysis process.    \n",
    "\n",
    "Beginning with loading the dataset and exploring its basic characteristics, such as column details and initial rows, users are then guided through understanding the types of variables present and how they can be modeled. Subsequent sections delve into categorical data analysis using bar charts, exploring continuous numerical variables through summary statistics and histograms, and examining correlations between specific variables, such as penguins' bill length and flipper length. The notebook concludes with a concise summary of the findings and potential opportunities for further exploration, along with a list of references for additional information. This structured approach enables users to gain insights into the dataset's characteristics and relationships, facilitating informed analysis and decision-making in related research or applications."
   ]
  },
  {
   "cell_type": "markdown",
   "metadata": {},
   "source": [
    "## Loading the Dataset\n",
    "\n",
    "The pandas library in Python has been used to load Palmer Penguins dataset as it is efficient, powerful, and flexible for analyzing tabular data with ease, leveraging Python's ecosystem [[15]](#15).     \n",
    "Together with pandas, other modules libraries have been imported to support to generate graphics, calculus and extract specific chunk of data from the dataset. See below a short description of the modules used from Python and their use in this analysis:\n",
    "- pandas: to load Palmer Penguins dataset, display the structure of the dataset, provide info about the dataset's structure, count the number of penguins of each category available within a variable, calculate summary statistics of the continuous numerical variables, and to drop NaN [[16]](#16). \n",
    "- matplotlib: to create a bar chart to visualize the count of penguins on each island, plot a histogram to visualize the distribution of continuous numerical variables, and to plot the best fit line on the scatter plot [[17]](#17).\n",
    "- numpy: to calculate histogram bins and counts for plotting histograms, perform linear regression to calculate the slope and intercept for the best-fit line on the scatter plot, and to calculate the correlation coefficient between two continuous variables of this dataset [[18]](#18).\n",
    "- scipy: to fit a normal distribution to the data and calculate the probability density function (PDF) for the normal distribution [[19]](#19).\n",
    "- seaborn: to create a scatter plot to visualize the relationship between penguins' bill length and body mass [[20]](#20).\n"
   ]
  },
  {
   "cell_type": "code",
   "execution_count": null,
   "metadata": {},
   "outputs": [],
   "source": [
    "# Import pandas for the data frames \n",
    "import pandas as pd\n",
    "\n",
    "# Import matplotlib\n",
    "import matplotlib.pyplot as plt \n",
    "\n",
    "# Import numpy\n",
    "import numpy as np\n",
    "\n",
    "# Import scipy\n",
    "from scipy.stats import norm\n",
    "\n",
    "# Import seaborn\n",
    "import seaborn as sns\n"
   ]
  },
  {
   "cell_type": "markdown",
   "metadata": {},
   "source": [
    "The penguins dataset from seaborn is then loaded into this notebook using the function read_csv in pandas [[11]](#17) [[21]](#21). "
   ]
  },
  {
   "cell_type": "code",
   "execution_count": null,
   "metadata": {},
   "outputs": [],
   "source": [
    "# Load the penguins data set (read_csv).\n",
    "df = pd.read_csv('https://raw.githubusercontent.com/mwaskom/seaborn-data/master/penguins.csv')"
   ]
  },
  {
   "cell_type": "markdown",
   "metadata": {},
   "source": [
    "## Exploring the Dataset\n",
    "\n",
    "The structure of the penguins dataset can be understood by looking into it. By running 'df', it is possible to see information such as the columns names, some data in the first 5 rows and in the last 5 rows of the dataset. The total number of rows and columns is also provided."
   ]
  },
  {
   "cell_type": "code",
   "execution_count": null,
   "metadata": {},
   "outputs": [],
   "source": [
    "# Look into the data structure\n",
    "df"
   ]
  },
  {
   "cell_type": "markdown",
   "metadata": {},
   "source": [
    "The following assumptions can be made by looking into the structure of this dataset:\n",
    "<ol>\n",
    "<li>There are 7 columns with 7 variables.</li>\n",
    "<li>This dataset is composed by 344 rows.</li>\n",
    "<li>Some rows of the dataset have NaN.</li> \n",
    "</ol>"
   ]
  },
  {
   "cell_type": "markdown",
   "metadata": {},
   "source": [
    "### Counting the missing values\n",
    "The count of missing values has been performed and shed light into the completeness of the dataset and identify any areas where data might be missing or incomplete, which is crucial for ensuring the accuracy and reliability of the analysis [[22]](#22)."
   ]
  },
  {
   "cell_type": "code",
   "execution_count": null,
   "metadata": {},
   "outputs": [],
   "source": [
    "missing_values_count = df.isnull().sum()\n",
    "print(\"Missing Values Count:\\n\", missing_values_count)"
   ]
  },
  {
   "cell_type": "markdown",
   "metadata": {},
   "source": [
    "Based on this analysis the following can be understood:\n",
    "- \"Species\" and \"island\" are totally sorted, no penguin is left behind without a category.\n",
    "- There are 2 missing values for the collumns \"bill_length_mm\", \"bill_depth_mm\", \"flipper_length_mm\", and \"body_mass_g\", suggesting that there are some incomplete measurements for these physical attributes.\n",
    "- As for \"sex\", 11 of the penguins do not have their data displayed, implying that the gender of some penguins in the dataset is not recorded."
   ]
  },
  {
   "cell_type": "markdown",
   "metadata": {},
   "source": [
    "### Display Random Sample of Data:\n",
    "Displaying a random sample of data provides an initial glimpse into the dataset's variety, helping grasp its overall structure and characteristics without delving into the entire dataset at once [[23]](#23) [[24]](#24)."
   ]
  },
  {
   "cell_type": "code",
   "execution_count": null,
   "metadata": {},
   "outputs": [],
   "source": [
    "random_sample = df.sample(5)  # Displaying 5 random rows\n",
    "print(\"Random Sample of Data:\\n\", random_sample)"
   ]
  },
  {
   "cell_type": "markdown",
   "metadata": {},
   "source": [
    "From the random sample of the dataset, it can be observed a mix of penguin species (Adelie and Gentoo) from different islands (Dream and Biscoe), displaying various measurements such as bill length, bill depth, flipper length, body mass, and sex, providing a snapshot of the dataset's diversity and characteristics."
   ]
  },
  {
   "cell_type": "markdown",
   "metadata": {},
   "source": [
    "## Types of Variables to Model the Data Set\n",
    "\n",
    "To choose the right statistical tests to analyse the dataset, the data types have to be identified for each column of the dataset as well as the count of non-null data [[25]](#25). "
   ]
  },
  {
   "cell_type": "code",
   "execution_count": null,
   "metadata": {},
   "outputs": [],
   "source": [
    "# Display dataset information\n",
    "print(df.info())"
   ]
  },
  {
   "cell_type": "markdown",
   "metadata": {},
   "source": [
    "\n",
    "\n",
    "In the info provided above is shown that 4 of the 7 columns have a data type of float with 64 bits and the other 3 have a datatype identified as object. Object means the value is a string [[25]](#25).     \n",
    "Categorical variables (species, island, and sex) are represented as objects in Palmers Penguins DataFrame and should be modeled as objects in Python to maintain their original category. The other variables as bill lenght, bill depth, flipper length and body mass are continuous numerical variables and should be represented as float64 in Python to reflect their decimal values and support the mathematical and statistical calculations such as the mean and the standard deviations [[26]](#26). "
   ]
  },
  {
   "cell_type": "markdown",
   "metadata": {},
   "source": [
    "## Categorical Data and Bar Chart:\n",
    "\n",
    "To illustrate graphically and better display the comparison of contrast metrics of the data across the different categories the use of bar chart is suggested by Rana (2023) [[27]](#27). From the variables in the Palmers penguins dataset, any of the three categorical variable (species, island, and sex) can be appropriate for analysis. To verify what are the different values available within each category and their counts the value_counts() function in pandas is used as per below [[28]](#28)."
   ]
  },
  {
   "cell_type": "code",
   "execution_count": null,
   "metadata": {},
   "outputs": [],
   "source": [
    "species_counts = df['species'].value_counts()\n",
    "island_counts = df['island'].value_counts()\n",
    "sex_counts = df['sex'].value_counts()\n",
    "\n",
    "print(\"Species Counts:\\n\", species_counts)\n",
    "print(\"Island Counts:\\n\", island_counts)\n",
    "print(\"Sex Counts:\\n\", sex_counts)"
   ]
  },
  {
   "cell_type": "markdown",
   "metadata": {},
   "source": [
    "The counts provide a snapshot of penguin distribution in the dataset. Adelie penguins are the most common (152), followed by Gentoo (124) and Chinstrap (68). Biscoe Island hosts the most penguins (168), then Dream Island (124) and Torgersen Island (52). There's a nearly equal number of males (168) and females (165). These numbers offer a quick overview of the dataset's makeup, aiding in further analysis of penguin physical characteristics. The dataset contains a disproportionate number of penguins from certain islands and species compared to others, which can introduce sampling bias. This bias may skew the analysis results and lead to erroneous conclusions, especially if the islands represent different ecological or environmental conditions. Therefore, for this analysis let's have a look into the location where the penguins were identified during the research and how the species are distributed within each location. \n",
    "\n",
    "Firsly, island and species are grouped and the count for each possible combination is presented. Here, the functions groupby().size() were used from Pandas [[29]](#29)."
   ]
  },
  {
   "cell_type": "code",
   "execution_count": null,
   "metadata": {},
   "outputs": [],
   "source": [
    "# Group by island and species, then count the occurrences\n",
    "species_counts = df.groupby(['island', 'species']).size()\n",
    "\n",
    "# Print the species counts for each island\n",
    "print(\"Species Counts:\")\n",
    "print(species_counts)"
   ]
  },
  {
   "cell_type": "markdown",
   "metadata": {},
   "source": [
    "### Bar Chart\n",
    "\n",
    "The bar chart below was generated to display the count of each species of penguins in this dataset that were identified in each island. However, before going further in the analysis is important to hightlight the steps taken to get to this elaborated chart: \n",
    "- Pivot the Data Frame [[30]](#30).\n",
    "- Sort the species [[31]](#31) [[32]](#32).\n",
    "- Reorder the DataFrame [[33]](#33).\n",
    "- Plot the stacked bar chart [[34]](#34).\n",
    "- Add value labels [[35]](#35).\n",
    "- Add titles and labels [[34]](#34).\n",
    "- Rotate the x-axis labels [[34]](#34).\n"
   ]
  },
  {
   "cell_type": "code",
   "execution_count": null,
   "metadata": {},
   "outputs": [],
   "source": [
    "# Pivot the DataFrame to have islands as columns and species as rows\n",
    "pivot_species_counts = species_counts.pivot(index='island', columns='species', values=0)\n",
    "\n",
    "# Sort the species by count in descending order\n",
    "sorted_species = pivot_species_counts.sum(axis=0).sort_values(ascending=False).index\n",
    "\n",
    "# Reorder the DataFrame based on sorted species\n",
    "pivot_species_counts = pivot_species_counts[sorted_species]\n",
    "\n",
    "# Plot the stacked bar chart\n",
    "ax = pivot_species_counts.plot(kind='bar', stacked=True, figsize=(10, 8))\n",
    "\n",
    "# Add value labels within each bar\n",
    "for container in ax.containers:\n",
    "    ax.bar_label(container, label_type='center')\n",
    "\n",
    "# Add titles and labels\n",
    "plt.title('Species Counts by Island')\n",
    "plt.xlabel('Island')\n",
    "plt.ylabel('Count')\n",
    "\n",
    "\n",
    "# Rotate the x-axis labels\n",
    "plt.xticks(rotation=0)\n"
   ]
  },
  {
   "cell_type": "markdown",
   "metadata": {},
   "source": [
    "The data shows us that Biscoe Island is primarily inhabited by Gentoo penguins, with a count of 124. This means that there are a lot more Gentoo penguins than Adelie penguins, which only have a count of 44 on the same island. On Dream Island, we see a different picture. While Adelie penguins are still the most common with a count of 56, there's also a significant presence of Chinstrap penguins, with a count of 68. This suggests that Dream Island is home to a diverse mix of penguin species. Lastly, Torgersen Island has a notable population of Adelie penguins, with a count of 52. This tells us that Adelie penguins are quite prevalent on Torgersen Island compared to other species. Overall, each island has its own unique combination of penguin species, and studying these patterns helps scientists understand how penguins live in different environments."
   ]
  },
  {
   "cell_type": "markdown",
   "metadata": {},
   "source": [
    "## Continuous Numerical Data and Histogram\n",
    "\n",
    "For the continuous numerical data, descriptive statistics is used to get a summary and initial insights into the data [[36]](#36) [[37]](#37). The function describe() in Pandas is ideal to return the description of the continuous data such as count of not-empy values; the average value; the standard deviation; the 25%, 50%, and 75% percentiles; the minimum, and maximum values [[38]](#38)."
   ]
  },
  {
   "cell_type": "code",
   "execution_count": null,
   "metadata": {},
   "outputs": [],
   "source": [
    "# Describe the data set.\n",
    "df.describe()"
   ]
  },
  {
   "cell_type": "markdown",
   "metadata": {},
   "source": [
    "The descriptive statistics reveal average measurements (mean) and their variability (standard deviation), highlighting significant diversity among penguins. Most penguins have bill lengths between 39.2 mm and 48.5 mm, bill depths between 15.6 mm and 18.7 mm, flipper lengths between 190.0 mm and 213.0 mm, and body masses ranging from 2,700.0 grams to 6,300.0 grams. Penguins body masses exhibits the highest variation (801.96 grams). These statistics provide key insights into the distribution and typical ranges of these attributes within the dataset."
   ]
  },
  {
   "cell_type": "markdown",
   "metadata": {},
   "source": [
    "### Histogram\n",
    "\n",
    "Histograms are valuable for exploring and interpreting continuous numerical data due to their ability to reveal distributional patterns, identify outliers, and facilitate comparisons of data quantity within different bins according to Pannell (2023) [[39]](#39). \n",
    "From the four variables of data type categorical numerical described above, bill_depth_mm shows the best distribution as its data seems to be relatively symmetric and less variable distribution compared to the others. Variables that the data are normal distributed has symmetry around the mean, which facilitates easier interpretation of the statistical results and application of several statistical techniques [[40]](#40). Therefore, let's have a look on a histogram of the bill_depth_mm."
   ]
  },
  {
   "cell_type": "markdown",
   "metadata": {},
   "source": [
    "The provided code snippet processes the variable 'bill_depth_mm', by first removing any missing values [[41]](#41). It then constructs a histogram with a specified number of bins and plots it using plt.bar() [[42]](#42). Additional customization includes setting titles and labels for axes, as well as defining tick positions and labels along the x-axis [[34]](#34) [[43]](#43) [[44]](#44). A normal distribution is fitted to the data, with the mean and standard deviation estimated for the distribution [[19]](#19) [[45]](#45). The normal distribution curve is plotted alongside the histogram, showing the theoretical distribution of the data [[46]](#46). Furthermore, vertical dashed lines are added to mark the mean and median values of the dataset [[47]](#47). Legends are created to distinguish between the histogram, normal distribution, and the mean and median values, enhancing the interpretability of the plot [[48]](#48).\n",
    "\n",
    "In simple terms, this code does a bunch of things smoothly. First off, it cleans up any missing data and then makes a cool histogram to show how the 'bill_depth_mm' data is spread out. It also throws in a theoretical model called a normal distribution, so you can see how your actual data compares to this idealized pattern. Plus, it throws in some stats like the average (mean) and middle point (median) to give you a better idea of where most of your data falls. And to top it off, it adds those little legend boxes so you can easily see what is on the plot. Overall, it's like your all-in-one package for checking out and understanding the 'bill_depth_mm' data distribution."
   ]
  },
  {
   "cell_type": "code",
   "execution_count": null,
   "metadata": {},
   "outputs": [],
   "source": [
    "# Assuming 'df' is your DataFrame containing the data\n",
    "data = df['bill_depth_mm'].dropna()\n",
    "\n",
    "# Calculate histogram with specified number of bins\n",
    "num_bins = 15\n",
    "counts, bin_edges = np.histogram(data, bins=num_bins)\n",
    "\n",
    "# Plot histogram using plt.bar() with bin edges and counts\n",
    "plt.bar(bin_edges[:-1], counts, width=np.diff(bin_edges), color='yellow', edgecolor='black', linewidth=1.2, label='Histogram')\n",
    "\n",
    "# Add title and labels\n",
    "plt.title(\"Bill Depth Distribution (mm)\")\n",
    "plt.xlabel(\"Depth (mm)\")\n",
    "plt.ylabel(\"Frequency\")\n",
    "\n",
    "# Calculate positions for tick labels at bin edges\n",
    "tick_positions = bin_edges  # Use bin edges as tick positions\n",
    "\n",
    "# Set custom x-axis tick positions and labels\n",
    "plt.xticks(tick_positions, labels=[f\"{bin_edge:.1f}\" for bin_edge in bin_edges], rotation=45, fontsize=8)\n",
    "\n",
    "# Fit a normal distribution to the data\n",
    "mu, std = norm.fit(data)  # Estimate mean (mu) and standard deviation (std) of the data\n",
    "\n",
    "# Generate x values for the normal distribution curve\n",
    "x = np.linspace(min(data), max(data), 100)\n",
    "pdf = norm.pdf(x, mu, std)  # Calculate the probability density function (PDF) for the normal distribution\n",
    "\n",
    "# Plot the normal distribution curve (bell-shaped line)\n",
    "plt.plot(x, pdf * len(data) * np.diff(bin_edges)[0], 'r-', linewidth=2, label='Normal Distribution')\n",
    "\n",
    "# Calculate the mean and median of the data\n",
    "mean_depth = np.mean(data)\n",
    "median_depth = np.median(data)\n",
    "\n",
    "# Add vertical lines at the mean and median values\n",
    "plt.axvline(mean_depth, color='green', linestyle='dashed', linewidth=2, label='Mean Depth')\n",
    "plt.axvline(median_depth, color='blue', linestyle='dashed', linewidth=2, label='Median Depth')\n",
    "\n",
    "# Create legend handles and labels for different groups of legends\n",
    "handles, labels = plt.gca().get_legend_handles_labels()\n",
    "\n",
    "# Create legend for left side (Histogram and Normal Distribution)\n",
    "left_legend = plt.legend(handles[:2], labels[:2], loc='upper left')\n",
    "\n",
    "# Create legend for right side (Mean Depth and Median Depth)\n",
    "right_legend = plt.legend(handles[2:], labels[2:], loc='upper right')\n",
    "\n",
    "# Add both legends to the plot\n",
    "plt.gca().add_artist(left_legend)\n",
    "plt.gca().add_artist(right_legend)\n"
   ]
  },
  {
   "cell_type": "markdown",
   "metadata": {},
   "source": [
    "This histrogram displays a symmetric distribution (bell-shaped). From the Summary Statistics section it was observed that the value for the mean is 17.15 mm. The median can be seen in the histogram intersecting the bin value of 17.30 mm. The median and mean values are very close to each other which confirms the symmetric distribution (in text citation Normal Distribution).\n",
    "Though this histrogram follows a normal distribution, it is possible to observe a small deformation on the left side of the graphic between the second and forth bin, and slightly to the right of the center of the histogram on the 11th bin. This might be due to the nature of the dataset that accounts for penguins of different species, islands, sex and sizes. "
   ]
  },
  {
   "cell_type": "markdown",
   "metadata": {},
   "source": [
    "## Correlation between Two Variables from the Dataset.\n",
    "\n",
    "At the previous section it was possible to identify a normal distribution for the bill depth and a good analysis was completed for it using the histogram to support the visualization of the data distribution.\n",
    "In this section, an investigation is set up to confirm the correlation between the bill length and body mass, taking into consideration the information provided from the analysis of the descriptive statistics where it was pointed out that the body mass exhibited the highest variation among the 4 continous variables of this dataset, while the bill length has a moderate level of variability. So, it should be interesting to have a look in the correlation between these two continuous variables. To add a bit more of context, let's group by species to understand how the different species are distributed in this correlation. \n",
    "But, first, what is correlation? When we talk about \"correlation\" in statistics, we're mainly looking at how two things relate to each other in a straight-line kind of way. It's like when you plot points on a graph and they form a straight line. That's what we mean by \"correlation\" in statistics—it's about seeing how closely two variables move together in a straight line [[49]](#49).\n",
    "\n",
    "Going back to the variables that will be used in this correlation analysis. The flipper length, body mass and species data are extracted from the dataset 'df', dropping any 'NaN' values from flipper length and body mass, which were identified in these variables during the section Exploring the Dataset."
   ]
  },
  {
   "cell_type": "code",
   "execution_count": null,
   "metadata": {},
   "outputs": [],
   "source": [
    "# Get the bill lenght\n",
    "blen= df['bill_length_mm'].dropna()\n",
    "\n",
    "# Show\n",
    "blen"
   ]
  },
  {
   "cell_type": "code",
   "execution_count": null,
   "metadata": {},
   "outputs": [],
   "source": [
    "# Get the body mass\n",
    "bmass = df['body_mass_g'].dropna()\n",
    "\n",
    "# Show\n",
    "bmass"
   ]
  },
  {
   "cell_type": "code",
   "execution_count": null,
   "metadata": {},
   "outputs": [],
   "source": [
    "# Get the categorical variable species\n",
    "species = df['species']\n",
    "\n",
    "# Show\n",
    "species"
   ]
  },
  {
   "cell_type": "markdown",
   "metadata": {},
   "source": [
    "We then add a best fit line [[50]](#50). The following equation is used to calculate the Line of Best Fit:"
   ]
  },
  {
   "cell_type": "markdown",
   "metadata": {},
   "source": [
    "$ y = mx + c = p_1 x^1 + p_0 = p_1 x + p_0$"
   ]
  },
  {
   "cell_type": "markdown",
   "metadata": {},
   "source": [
    "The function polyfit () from Numpy is used here to associate the m from the polyfit equation (as ilustrated above) to the bill length \"blen\", and the c from the polyfit to the body mass \"bmass\"."
   ]
  },
  {
   "cell_type": "code",
   "execution_count": null,
   "metadata": {},
   "outputs": [],
   "source": [
    "#Fit a straight line between x and y.\n",
    "m, c = np.polyfit(blen, bmass, 1)\n",
    "\n",
    "# Show m and C.\n",
    "m, c"
   ]
  },
  {
   "cell_type": "markdown",
   "metadata": {},
   "source": [
    "The line of code linspace() from numpy module creates an array (bf_x) containing 100 evenly spaced numbers starting from 30mm and ending at 60mm, which are whole values closer to the minimum (32.1mm) and maximum (59.6mm) values of the variable bill lenght as per section Continuous Numerical Data and Histogram [[51]](#51). These numbers are evenly distributed along a linear scale, making it convenient for creating plots or performing numerical computations over a specific range.\n",
    "\n",
    "Next, the equation m * bf_x + c is applied representing the formula for a straight line where m is the slope, bf_x are the x-values, and c is the y-intercept. By multiplying the slope (m) with each x-value (bf_x) and adding the y-intercept (c), we obtain the corresponding y-values for the best-fit line [[50]](#50). "
   ]
  },
  {
   "cell_type": "code",
   "execution_count": null,
   "metadata": {},
   "outputs": [],
   "source": [
    "# x values for best fit line.\n",
    "bf_x = np.linspace (30, 60, 100)\n",
    "\n",
    "# y values for best fit line.\n",
    "bf_y = m * bf_x + c"
   ]
  },
  {
   "cell_type": "markdown",
   "metadata": {},
   "source": [
    "In this script below, a scatter plot of penguin data is created using Seaborn's `scatterplot` function. The data for the x-axis (`blen`) represents the bill length of the penguins, while the data for the y-axis (`bmass`) represents their body mass. The points on the scatter plot are colored according to the species of penguins using the `hue` parameter. \n",
    "\n",
    "Additionally, a best-fit line is plotted on the same graph using Matplotlib's `plot` function. This line represents the linear relationship between bill length and body mass, calculated earlier as `bf_x` and `bf_y`. The line is drawn in red ('r-') and labeled as 'Best Fit Line' in the legend.\n",
    "\n",
    "Various formatting options are applied to the plot, such as setting axis labels ('Bill Length (mm)' and 'Body Mass (g)'), a title ('Penguins Bill Length x Body Mass grouped by Species'), and limits for the x and y-axes. The legend is also displayed to help interpret the plot. Overall, this code snippet creates a visual representation of the relationship between bill length and body mass among penguins, categorized by species, and overlays a best-fit line to highlight any linear trends in the data.\n",
    "\n",
    "Finally the line of code corrcoef() calculates a number that tells us how closely related two things are in a straight-line way. Specifically, it's looking at how closely bill length and body mass of penguins are related. The number it gives us helps us understand if changes in one thing (like bill length) tend to go along with changes in the other thing (like body mass). If the number is close to 1, it means there's a strong positive relationship, while if it's close to -1, it means there's a strong negative relationship. If it's around 0, it means there's not much of a relationship at all."
   ]
  },
  {
   "cell_type": "markdown",
   "metadata": {},
   "source": []
  },
  {
   "cell_type": "code",
   "execution_count": null,
   "metadata": {},
   "outputs": [],
   "source": [
    "# Create a new figure and set of axes.\n",
    "fig, ax = plt.subplots()\n",
    "\n",
    "# Sample plot with islands categorization.\n",
    "sns.scatterplot(data=df, x=blen, y=bmass, hue=species, ax=ax)\n",
    "\n",
    "# Plot the best fit line.\n",
    "ax.plot(bf_x, bf_y, 'r-', label='Best Fit Line')\n",
    "\n",
    "# Axis labels.\n",
    "ax.set_xlabel('Bill Length (mm)')\n",
    "ax.set_ylabel('Body Mass (g)')\n",
    "\n",
    "# Title.\n",
    "ax.set_title('Penguins Bill Length x Body Mass grouped by Species')\n",
    "\n",
    "# X Limits.\n",
    "ax.set_xlim(30, 60)\n",
    "\n",
    "# Y Limits.\n",
    "ax.set_ylim(2500, 6500)\n",
    "\n",
    "# Show the legend.\n",
    "ax.legend()\n",
    "\n",
    "# Measure the correlation\n",
    "np.corrcoef(blen,bmass)"
   ]
  },
  {
   "cell_type": "markdown",
   "metadata": {},
   "source": [
    "## Opportunities for further investigation\n",
    "More investigation can be conducted by looking into the different species of penguins in the island of Biscoe as well as their sex. This could help to explain the skewness of the data observed in the box plot for the bill length of penguins from Biscoe island."
   ]
  },
  {
   "cell_type": "markdown",
   "metadata": {},
   "source": [
    "## Conclusion"
   ]
  },
  {
   "cell_type": "markdown",
   "metadata": {},
   "source": [
    "***\n",
    "### End"
   ]
  }
 ],
 "metadata": {
  "kernelspec": {
   "display_name": "base",
   "language": "python",
   "name": "python3"
  },
  "language_info": {
   "codemirror_mode": {
    "name": "ipython",
    "version": 3
   },
   "file_extension": ".py",
   "mimetype": "text/x-python",
   "name": "python",
   "nbconvert_exporter": "python",
   "pygments_lexer": "ipython3",
   "version": "3.11.5"
  }
 },
 "nbformat": 4,
 "nbformat_minor": 2
}
