{
 "cells": [
  {
   "cell_type": "markdown",
   "metadata": {},
   "source": [
    "# Palmer Penguins\n",
    "\n",
    "![Introduction to Penguins](images/iter_penguins.png)     \n",
    "*Palmer Penguins* [[1]](#1)         \n",
    "\n",
    "This notebook contains an analysis of the famous palmer penguins dataset and serves as a comprehensive guide for analyzing the Palmer Penguins dataset, offering users a structured approach to understand and interpret its various aspects [[2]](#2). Each section focus on a specific aspect of the dataset analysis process.    \n",
    "\n",
    "Beginning with loading the dataset and exploring its basic characteristics, such as column details and initial rows, users are then guided through understanding the types of variables present and how they can be modeled. Subsequent sections delve into categorical data analysis using bar charts, exploring continuous numerical variables through summary statistics and histograms, and examining correlations between specific variables, such as penguins' bill length and flipper length. The notebook concludes with a concise summary of the findings and potential opportunities for further exploration, along with a list of references for additional information. This structured approach enables users to gain insights into the dataset's characteristics and relationships, facilitating informed analysis and decision-making in related research or applications."
   ]
  },
  {
   "cell_type": "markdown",
   "metadata": {},
   "source": [
    "## Loading the Dataset\n",
    "\n",
    "The pandas library in Python has been used to load Palmer Penguins dataset as it is efficient, powerful, and flexible for analyzing tabular data with ease, leveraging Python's ecosystem [[3]](#3).     \n",
    "Together with pandas, other modules libraries have been imported to support to generate graphics, calculus and extract specific chunk of data from the dataset. See below a short description of the modules used from Python and their use in this analysis:\n",
    "- pandas: to load Palmer Penguins dataset, display the structure of the dataset, provide info about the dataset's structure, count the number of penguins of each category available within a variable, calculate summary statistics of the continuous numerical variables, and to drop NaN [[4]](#4). \n",
    "- matplotlib: to create a bar chart to visualize the count of penguins on each island, plot a histogram to visualize the distribution of continuous numerical variables, and to plot the best fit line on the scatter plot [[5]](#5).\n",
    "- numpy: to calculate histogram bins and counts for plotting histograms, perform linear regression to calculate the slope and intercept for the best-fit line on the scatter plot, and to calculate the correlation coefficient between two continuous variables of this dataset [[6]](#6).\n",
    "- scipy: to fit a normal distribution to the data and calculate the probability density function (PDF) for the normal distribution [[7]](#7).\n",
    "- seaborn: to create a scatter plot to visualize the relationship between penguins' bill length and body mass [[8]](#8).\n"
   ]
  },
  {
   "cell_type": "code",
   "execution_count": 191,
   "metadata": {},
   "outputs": [],
   "source": [
    "# Import pandas for the data frames \n",
    "import pandas as pd\n",
    "\n",
    "# Import matplotlib\n",
    "import matplotlib.pyplot as plt \n",
    "\n",
    "# Import numpy\n",
    "import numpy as np\n",
    "\n",
    "# Import scipy\n",
    "from scipy.stats import norm\n",
    "\n",
    "# Import seaborn\n",
    "import seaborn as sns\n"
   ]
  },
  {
   "cell_type": "markdown",
   "metadata": {},
   "source": [
    "The penguins dataset from seaborn is then loaded into this notebook using the function read_csv in pandas [[2]](#2) [[9]](#9). "
   ]
  },
  {
   "cell_type": "code",
   "execution_count": 192,
   "metadata": {},
   "outputs": [],
   "source": [
    "# Load the penguins data set (read_csv).\n",
    "df = pd.read_csv('https://raw.githubusercontent.com/mwaskom/seaborn-data/master/penguins.csv')"
   ]
  },
  {
   "cell_type": "markdown",
   "metadata": {},
   "source": [
    "## Exploring the Dataset\n",
    "\n",
    "The structure of the penguins dataset can be understood by looking into it. By running 'df', it is possible to see information such as the columns names, some data in the first 5 rows and in the last 5 rows of the dataset. The total number of rows and columns is also provided."
   ]
  },
  {
   "cell_type": "code",
   "execution_count": 241,
   "metadata": {},
   "outputs": [
    {
     "data": {
      "text/html": [
       "<div>\n",
       "<style scoped>\n",
       "    .dataframe tbody tr th:only-of-type {\n",
       "        vertical-align: middle;\n",
       "    }\n",
       "\n",
       "    .dataframe tbody tr th {\n",
       "        vertical-align: top;\n",
       "    }\n",
       "\n",
       "    .dataframe thead th {\n",
       "        text-align: right;\n",
       "    }\n",
       "</style>\n",
       "<table border=\"1\" class=\"dataframe\">\n",
       "  <thead>\n",
       "    <tr style=\"text-align: right;\">\n",
       "      <th></th>\n",
       "      <th>species</th>\n",
       "      <th>island</th>\n",
       "      <th>bill_length_mm</th>\n",
       "      <th>bill_depth_mm</th>\n",
       "      <th>flipper_length_mm</th>\n",
       "      <th>body_mass_g</th>\n",
       "      <th>sex</th>\n",
       "    </tr>\n",
       "  </thead>\n",
       "  <tbody>\n",
       "    <tr>\n",
       "      <th>0</th>\n",
       "      <td>Adelie</td>\n",
       "      <td>Torgersen</td>\n",
       "      <td>39.1</td>\n",
       "      <td>18.7</td>\n",
       "      <td>181.0</td>\n",
       "      <td>3750.0</td>\n",
       "      <td>MALE</td>\n",
       "    </tr>\n",
       "    <tr>\n",
       "      <th>1</th>\n",
       "      <td>Adelie</td>\n",
       "      <td>Torgersen</td>\n",
       "      <td>39.5</td>\n",
       "      <td>17.4</td>\n",
       "      <td>186.0</td>\n",
       "      <td>3800.0</td>\n",
       "      <td>FEMALE</td>\n",
       "    </tr>\n",
       "    <tr>\n",
       "      <th>2</th>\n",
       "      <td>Adelie</td>\n",
       "      <td>Torgersen</td>\n",
       "      <td>40.3</td>\n",
       "      <td>18.0</td>\n",
       "      <td>195.0</td>\n",
       "      <td>3250.0</td>\n",
       "      <td>FEMALE</td>\n",
       "    </tr>\n",
       "    <tr>\n",
       "      <th>3</th>\n",
       "      <td>Adelie</td>\n",
       "      <td>Torgersen</td>\n",
       "      <td>NaN</td>\n",
       "      <td>NaN</td>\n",
       "      <td>NaN</td>\n",
       "      <td>NaN</td>\n",
       "      <td>NaN</td>\n",
       "    </tr>\n",
       "    <tr>\n",
       "      <th>4</th>\n",
       "      <td>Adelie</td>\n",
       "      <td>Torgersen</td>\n",
       "      <td>36.7</td>\n",
       "      <td>19.3</td>\n",
       "      <td>193.0</td>\n",
       "      <td>3450.0</td>\n",
       "      <td>FEMALE</td>\n",
       "    </tr>\n",
       "    <tr>\n",
       "      <th>...</th>\n",
       "      <td>...</td>\n",
       "      <td>...</td>\n",
       "      <td>...</td>\n",
       "      <td>...</td>\n",
       "      <td>...</td>\n",
       "      <td>...</td>\n",
       "      <td>...</td>\n",
       "    </tr>\n",
       "    <tr>\n",
       "      <th>339</th>\n",
       "      <td>Gentoo</td>\n",
       "      <td>Biscoe</td>\n",
       "      <td>NaN</td>\n",
       "      <td>NaN</td>\n",
       "      <td>NaN</td>\n",
       "      <td>NaN</td>\n",
       "      <td>NaN</td>\n",
       "    </tr>\n",
       "    <tr>\n",
       "      <th>340</th>\n",
       "      <td>Gentoo</td>\n",
       "      <td>Biscoe</td>\n",
       "      <td>46.8</td>\n",
       "      <td>14.3</td>\n",
       "      <td>215.0</td>\n",
       "      <td>4850.0</td>\n",
       "      <td>FEMALE</td>\n",
       "    </tr>\n",
       "    <tr>\n",
       "      <th>341</th>\n",
       "      <td>Gentoo</td>\n",
       "      <td>Biscoe</td>\n",
       "      <td>50.4</td>\n",
       "      <td>15.7</td>\n",
       "      <td>222.0</td>\n",
       "      <td>5750.0</td>\n",
       "      <td>MALE</td>\n",
       "    </tr>\n",
       "    <tr>\n",
       "      <th>342</th>\n",
       "      <td>Gentoo</td>\n",
       "      <td>Biscoe</td>\n",
       "      <td>45.2</td>\n",
       "      <td>14.8</td>\n",
       "      <td>212.0</td>\n",
       "      <td>5200.0</td>\n",
       "      <td>FEMALE</td>\n",
       "    </tr>\n",
       "    <tr>\n",
       "      <th>343</th>\n",
       "      <td>Gentoo</td>\n",
       "      <td>Biscoe</td>\n",
       "      <td>49.9</td>\n",
       "      <td>16.1</td>\n",
       "      <td>213.0</td>\n",
       "      <td>5400.0</td>\n",
       "      <td>MALE</td>\n",
       "    </tr>\n",
       "  </tbody>\n",
       "</table>\n",
       "<p>344 rows × 7 columns</p>\n",
       "</div>"
      ],
      "text/plain": [
       "    species     island  bill_length_mm  bill_depth_mm  flipper_length_mm  \\\n",
       "0    Adelie  Torgersen            39.1           18.7              181.0   \n",
       "1    Adelie  Torgersen            39.5           17.4              186.0   \n",
       "2    Adelie  Torgersen            40.3           18.0              195.0   \n",
       "3    Adelie  Torgersen             NaN            NaN                NaN   \n",
       "4    Adelie  Torgersen            36.7           19.3              193.0   \n",
       "..      ...        ...             ...            ...                ...   \n",
       "339  Gentoo     Biscoe             NaN            NaN                NaN   \n",
       "340  Gentoo     Biscoe            46.8           14.3              215.0   \n",
       "341  Gentoo     Biscoe            50.4           15.7              222.0   \n",
       "342  Gentoo     Biscoe            45.2           14.8              212.0   \n",
       "343  Gentoo     Biscoe            49.9           16.1              213.0   \n",
       "\n",
       "     body_mass_g     sex  \n",
       "0         3750.0    MALE  \n",
       "1         3800.0  FEMALE  \n",
       "2         3250.0  FEMALE  \n",
       "3            NaN     NaN  \n",
       "4         3450.0  FEMALE  \n",
       "..           ...     ...  \n",
       "339          NaN     NaN  \n",
       "340       4850.0  FEMALE  \n",
       "341       5750.0    MALE  \n",
       "342       5200.0  FEMALE  \n",
       "343       5400.0    MALE  \n",
       "\n",
       "[344 rows x 7 columns]"
      ]
     },
     "execution_count": 241,
     "metadata": {},
     "output_type": "execute_result"
    }
   ],
   "source": [
    "# Look into the data structure\n",
    "df"
   ]
  },
  {
   "cell_type": "markdown",
   "metadata": {},
   "source": [
    "The following assumptions can be made by looking into the structure of this dataset:\n",
    "<ol>\n",
    "<li>There are 7 columns with 7 variables.</li>\n",
    "<li>This dataset is composed by 344 rows.</li>\n",
    "<li>Some rows of the dataset have NaN.</li> \n",
    "</ol>"
   ]
  },
  {
   "cell_type": "markdown",
   "metadata": {},
   "source": [
    "### Counting the missing values\n",
    "The count of missing values has been performed and shed light into the completeness of the dataset and identify any areas where data might be missing or incomplete, which is crucial for ensuring the accuracy and reliability of the analysis [[10]](#10)."
   ]
  },
  {
   "cell_type": "code",
   "execution_count": 244,
   "metadata": {},
   "outputs": [
    {
     "name": "stdout",
     "output_type": "stream",
     "text": [
      "Missing Values Count:\n",
      " species               0\n",
      "island                0\n",
      "bill_length_mm        2\n",
      "bill_depth_mm         2\n",
      "flipper_length_mm     2\n",
      "body_mass_g           2\n",
      "sex                  11\n",
      "dtype: int64\n"
     ]
    }
   ],
   "source": [
    "missing_values_count = df.isnull().sum()\n",
    "print(\"Missing Values Count:\\n\", missing_values_count)"
   ]
  },
  {
   "cell_type": "markdown",
   "metadata": {},
   "source": [
    "Based on this analysis the following can be understood:\n",
    "- \"Species\" and \"island\" are totally sorted, no penguin is left behind without a category.\n",
    "- There are 2 missing values for the collumns \"bill_length_mm\", \"bill_depth_mm\", \"flipper_length_mm\", and \"body_mass_g\", suggesting that there are some incomplete measurements for these physical attributes.\n",
    "- As for \"sex\", 11 of the penguins do not have their data displayed, implying that the gender of some penguins in the dataset is not recorded."
   ]
  },
  {
   "cell_type": "markdown",
   "metadata": {},
   "source": [
    "### Display Random Sample of Data:\n",
    "Displaying a random sample of data provides an initial glimpse into the dataset's variety, helping grasp its overall structure and characteristics without delving into the entire dataset at once [[11]](#11) [[12]](#12)."
   ]
  },
  {
   "cell_type": "code",
   "execution_count": 246,
   "metadata": {},
   "outputs": [
    {
     "name": "stdout",
     "output_type": "stream",
     "text": [
      "Random Sample of Data:\n",
      "     species  island  bill_length_mm  bill_depth_mm  flipper_length_mm  \\\n",
      "95   Adelie   Dream            40.8           18.9              208.0   \n",
      "291  Gentoo  Biscoe            46.4           15.6              221.0   \n",
      "107  Adelie  Biscoe            38.2           20.0              190.0   \n",
      "148  Adelie   Dream            36.0           17.8              195.0   \n",
      "303  Gentoo  Biscoe            50.0           15.9              224.0   \n",
      "\n",
      "     body_mass_g     sex  \n",
      "95        4300.0    MALE  \n",
      "291       5000.0    MALE  \n",
      "107       3900.0    MALE  \n",
      "148       3450.0  FEMALE  \n",
      "303       5350.0    MALE  \n"
     ]
    }
   ],
   "source": [
    "random_sample = df.sample(5)  # Displaying 5 random rows\n",
    "print(\"Random Sample of Data:\\n\", random_sample)"
   ]
  },
  {
   "cell_type": "markdown",
   "metadata": {},
   "source": [
    "From the random sample of the dataset, it can be observed a mix of penguin species (Adelie and Gentoo) from different islands (Dream and Biscoe), displaying various measurements such as bill length, bill depth, flipper length, body mass, and sex, providing a snapshot of the dataset's diversity and characteristics."
   ]
  },
  {
   "cell_type": "markdown",
   "metadata": {},
   "source": [
    "## Types of Variables to Model the Data Set\n",
    "\n",
    "To choose the right statistical tests to analyse the dataset, the data types have to be identified for each column of the dataset as well as the count of non-null data (Pandas Python Explore Dataset, Data Variable Types). "
   ]
  },
  {
   "cell_type": "code",
   "execution_count": 194,
   "metadata": {},
   "outputs": [
    {
     "name": "stdout",
     "output_type": "stream",
     "text": [
      "<class 'pandas.core.frame.DataFrame'>\n",
      "RangeIndex: 344 entries, 0 to 343\n",
      "Data columns (total 7 columns):\n",
      " #   Column             Non-Null Count  Dtype  \n",
      "---  ------             --------------  -----  \n",
      " 0   species            344 non-null    object \n",
      " 1   island             344 non-null    object \n",
      " 2   bill_length_mm     342 non-null    float64\n",
      " 3   bill_depth_mm      342 non-null    float64\n",
      " 4   flipper_length_mm  342 non-null    float64\n",
      " 5   body_mass_g        342 non-null    float64\n",
      " 6   sex                333 non-null    object \n",
      "dtypes: float64(4), object(3)\n",
      "memory usage: 18.9+ KB\n",
      "None\n"
     ]
    }
   ],
   "source": [
    "# Display dataset information\n",
    "print(df.info())"
   ]
  },
  {
   "cell_type": "markdown",
   "metadata": {},
   "source": [
    "\n",
    "\n",
    "In the info provided above is shown that 4 of the 7 columns have a data type of float with 64 bits and the other 3 have a datatype identified as object. Object means the value is a string (Pandas Python Explore Dataset).     \n",
    "Categorical variables (species, island, and sex) are represented as objects in Palmers Penguins DataFrame and should be modeled as objects in Python to maintain their original category. The other variables as bill lenght, bill depth, flipper length and body mass are continuous numerical variables and should be represented as float64 in Python to reflect their decimal values and support the mathematical and statistical calculations such as the mean and  the standard deviations (In text citation for Data Variable Types). "
   ]
  },
  {
   "cell_type": "markdown",
   "metadata": {},
   "source": [
    "## Categorical Data and Bar Chart:\n",
    "\n",
    "To illustrate graphically and better display the comparison of contrast metrics of the data across the different categories the use of bar chart is suggested by Aditya Rana (2023). From the variables in the Palmers penguins dataset, any of the three categorical variable (species, island, and sex) can be appropriate for analysis. According to Enrich et all (1988), birds can demonstrate different characteristics based on their geograpical location. Therefore, for this analysis the location is considered to understand the impact that it has to the characteristics of the penguins. \n",
    "\n",
    "To start this analysis the count of each category within the column island is provided below."
   ]
  },
  {
   "cell_type": "code",
   "execution_count": 247,
   "metadata": {},
   "outputs": [
    {
     "name": "stdout",
     "output_type": "stream",
     "text": [
      "Species Counts:\n",
      " species\n",
      "Adelie       152\n",
      "Gentoo       124\n",
      "Chinstrap     68\n",
      "Name: count, dtype: int64\n",
      "Island Counts:\n",
      " island\n",
      "Biscoe       168\n",
      "Dream        124\n",
      "Torgersen     52\n",
      "Name: count, dtype: int64\n",
      "Sex Counts:\n",
      " sex\n",
      "MALE      168\n",
      "FEMALE    165\n",
      "Name: count, dtype: int64\n"
     ]
    }
   ],
   "source": [
    "species_counts = df['species'].value_counts()\n",
    "island_counts = df['island'].value_counts()\n",
    "sex_counts = df['sex'].value_counts()\n",
    "\n",
    "print(\"Species Counts:\\n\", species_counts)\n",
    "print(\"Island Counts:\\n\", island_counts)\n",
    "print(\"Sex Counts:\\n\", sex_counts)"
   ]
  },
  {
   "cell_type": "code",
   "execution_count": 195,
   "metadata": {},
   "outputs": [
    {
     "data": {
      "text/plain": [
       "island\n",
       "Biscoe       168\n",
       "Dream        124\n",
       "Torgersen     52\n",
       "Name: count, dtype: int64"
      ]
     },
     "execution_count": 195,
     "metadata": {},
     "output_type": "execute_result"
    }
   ],
   "source": [
    "# Count the number of penguins of each island\n",
    "df['island'].value_counts()"
   ]
  },
  {
   "cell_type": "markdown",
   "metadata": {},
   "source": [
    "Then, the bar chart displays the count of penguins in this dataset that were identified in each island."
   ]
  },
  {
   "cell_type": "code",
   "execution_count": 196,
   "metadata": {},
   "outputs": [
    {
     "data": {
      "text/plain": [
       "([0, 1, 2],\n",
       " [Text(0, 0, 'Biscoe'), Text(1, 0, 'Dream'), Text(2, 0, 'Torgersen')])"
      ]
     },
     "execution_count": 196,
     "metadata": {},
     "output_type": "execute_result"
    },
    {
     "data": {
      "image/png": "[encoded data removed]",
      "text/plain": [
       "<Figure size 800x600 with 1 Axes>"
      ]
     },
     "metadata": {},
     "output_type": "display_data"
    }
   ],
   "source": [
    "# Name the count of islands\n",
    "island_count = df['island'].value_counts()\n",
    "islands = island_count.index.tolist()  # Get list of unique islands\n",
    "\n",
    "# Assign different colors to different categories\n",
    "colors = {'Biscoe': 'blue', 'Dream': 'green', 'Torgersen': 'purple'}\n",
    "\n",
    "# Plot the bar chart\n",
    "plt.figure(figsize=(8, 6))\n",
    "bars = plt.bar(islands, island_count, color=[colors[i] for i in islands])\n",
    "\n",
    "# Add data labels (counts) on top of each bar\n",
    "for bar in bars:\n",
    "    plt.text(bar.get_x() + bar.get_width() / 2, \n",
    "             bar.get_height() + 0.3,\n",
    "             format(bar.get_height(), '.0f'),\n",
    "             ha='center', va='bottom', \n",
    "             color='black', fontsize=12, fontweight='bold')\n",
    "\n",
    "# Add titles and labels to the bar chart\n",
    "plt.title('Count of Penguins on Each Island')\n",
    "plt.xlabel('Island')\n",
    "plt.ylabel('Count')\n",
    "\n",
    "# Display the plot\n",
    "plt.xticks(rotation=0)"
   ]
  },
  {
   "cell_type": "code",
   "execution_count": 239,
   "metadata": {},
   "outputs": [
    {
     "data": {
      "text/plain": [
       "species\n",
       "Adelie       152\n",
       "Gentoo       124\n",
       "Chinstrap     68\n",
       "Name: count, dtype: int64"
      ]
     },
     "execution_count": 239,
     "metadata": {},
     "output_type": "execute_result"
    }
   ],
   "source": [
    "species = df['species'].value_counts()\n",
    "species\n"
   ]
  },
  {
   "cell_type": "markdown",
   "metadata": {},
   "source": [
    "From this bar chart, it is clear that the majority of the penguins that the data was collected from, were located in Biscoe island, which accounts for approximatelly 50% of all penguins. \n",
    "Only 1 in every 7 penguins from this dataset were from the Torgersen island.\n",
    "From this chart some conclusions can be drawn:\n",
    "- The variation in sample size from each island can influence further analysis and interpretation of the dataset (Sample Size variation in text citation). For instance, Biscoe island has the largest sample size and might provide more robust insigths of the penguins from that island than penguins from Torgersen.\n",
    "- Further analysis can be conducted to verify the species distribution within each island's dataset to ensure species composition is representative and does not skew the analysis (Correlation between two categorical variables). This is to confirm that no island hosts a predominant species which might affect the generalization about species physical characteristics."
   ]
  },
  {
   "cell_type": "markdown",
   "metadata": {},
   "source": [
    "## Continuous Numerical Data and Histogram\n",
    "\n",
    "For the continuous numerical data, descriptive statistics is used to get a summary and initial insights into the data (Calculate Statistics, What is descriptive statistics). "
   ]
  },
  {
   "cell_type": "code",
   "execution_count": 197,
   "metadata": {},
   "outputs": [
    {
     "data": {
      "text/html": [
       "<div>\n",
       "<style scoped>\n",
       "    .dataframe tbody tr th:only-of-type {\n",
       "        vertical-align: middle;\n",
       "    }\n",
       "\n",
       "    .dataframe tbody tr th {\n",
       "        vertical-align: top;\n",
       "    }\n",
       "\n",
       "    .dataframe thead th {\n",
       "        text-align: right;\n",
       "    }\n",
       "</style>\n",
       "<table border=\"1\" class=\"dataframe\">\n",
       "  <thead>\n",
       "    <tr style=\"text-align: right;\">\n",
       "      <th></th>\n",
       "      <th>bill_length_mm</th>\n",
       "      <th>bill_depth_mm</th>\n",
       "      <th>flipper_length_mm</th>\n",
       "      <th>body_mass_g</th>\n",
       "    </tr>\n",
       "  </thead>\n",
       "  <tbody>\n",
       "    <tr>\n",
       "      <th>count</th>\n",
       "      <td>342.000000</td>\n",
       "      <td>342.000000</td>\n",
       "      <td>342.000000</td>\n",
       "      <td>342.000000</td>\n",
       "    </tr>\n",
       "    <tr>\n",
       "      <th>mean</th>\n",
       "      <td>43.921930</td>\n",
       "      <td>17.151170</td>\n",
       "      <td>200.915205</td>\n",
       "      <td>4201.754386</td>\n",
       "    </tr>\n",
       "    <tr>\n",
       "      <th>std</th>\n",
       "      <td>5.459584</td>\n",
       "      <td>1.974793</td>\n",
       "      <td>14.061714</td>\n",
       "      <td>801.954536</td>\n",
       "    </tr>\n",
       "    <tr>\n",
       "      <th>min</th>\n",
       "      <td>32.100000</td>\n",
       "      <td>13.100000</td>\n",
       "      <td>172.000000</td>\n",
       "      <td>2700.000000</td>\n",
       "    </tr>\n",
       "    <tr>\n",
       "      <th>25%</th>\n",
       "      <td>39.225000</td>\n",
       "      <td>15.600000</td>\n",
       "      <td>190.000000</td>\n",
       "      <td>3550.000000</td>\n",
       "    </tr>\n",
       "    <tr>\n",
       "      <th>50%</th>\n",
       "      <td>44.450000</td>\n",
       "      <td>17.300000</td>\n",
       "      <td>197.000000</td>\n",
       "      <td>4050.000000</td>\n",
       "    </tr>\n",
       "    <tr>\n",
       "      <th>75%</th>\n",
       "      <td>48.500000</td>\n",
       "      <td>18.700000</td>\n",
       "      <td>213.000000</td>\n",
       "      <td>4750.000000</td>\n",
       "    </tr>\n",
       "    <tr>\n",
       "      <th>max</th>\n",
       "      <td>59.600000</td>\n",
       "      <td>21.500000</td>\n",
       "      <td>231.000000</td>\n",
       "      <td>6300.000000</td>\n",
       "    </tr>\n",
       "  </tbody>\n",
       "</table>\n",
       "</div>"
      ],
      "text/plain": [
       "       bill_length_mm  bill_depth_mm  flipper_length_mm  body_mass_g\n",
       "count      342.000000     342.000000         342.000000   342.000000\n",
       "mean        43.921930      17.151170         200.915205  4201.754386\n",
       "std          5.459584       1.974793          14.061714   801.954536\n",
       "min         32.100000      13.100000         172.000000  2700.000000\n",
       "25%         39.225000      15.600000         190.000000  3550.000000\n",
       "50%         44.450000      17.300000         197.000000  4050.000000\n",
       "75%         48.500000      18.700000         213.000000  4750.000000\n",
       "max         59.600000      21.500000         231.000000  6300.000000"
      ]
     },
     "execution_count": 197,
     "metadata": {},
     "output_type": "execute_result"
    }
   ],
   "source": [
    "# Describe the data set.\n",
    "df.describe()"
   ]
  },
  {
   "cell_type": "markdown",
   "metadata": {},
   "source": [
    "The descriptive statistics reveal average measurements (mean) and their variability (standard deviation), highlighting significant diversity among penguins. Most penguins have bill lengths between 39.2 mm and 48.5 mm, bill depths between 15.6 mm and 18.7 mm, flipper lengths between 190.0 mm and 213.0 mm, and body masses ranging from 2,700.0 grams to 6,300.0 grams. Penguins body masses exhibits the highest variation (801.96 grams). These statistics provide key insights into the distribution and typical ranges of these attributes within the dataset."
   ]
  },
  {
   "cell_type": "markdown",
   "metadata": {},
   "source": [
    "Histograms are valuable for exploring and interpreting continuous numerical data due to their ability to reveal distributional patterns, identify outliers, and facilitate comparisons of data quantity within different bins according to Pannell, 2023. \n",
    "From the four variables of data type categorical numerical described above, bill_depth_mm shows the best distribution as its data seems to be relatively symmetric and less variable distribution compared to the others. Variables that the data are normal distributed has symmetry around the mean, which facilitates easier interpretation of the statistical results and application of several statistical techniques (Halder, 2024). In addition, variables with a normal distribution can be advantageous when analyzing their correlation with other variables as normality implies that the data points are symmetrically distributed around the mean, which often corresponds to a linear relationship between variables (Kenton, 2024 and Turney). Therefore for this analysis a histogram of the bill_depth_mm is generated."
   ]
  },
  {
   "cell_type": "code",
   "execution_count": 198,
   "metadata": {},
   "outputs": [
    {
     "data": {
      "text/plain": [
       "<matplotlib.legend.Legend at 0x3340b1910>"
      ]
     },
     "execution_count": 198,
     "metadata": {},
     "output_type": "execute_result"
    },
    {
     "data": {
      "image/png": "[encoded data removed]",
      "text/plain": [
       "<Figure size 640x480 with 1 Axes>"
      ]
     },
     "metadata": {},
     "output_type": "display_data"
    }
   ],
   "source": [
    "# Assuming 'df' is your DataFrame containing the data\n",
    "data = df['bill_depth_mm'].dropna()\n",
    "\n",
    "# Calculate histogram with specified number of bins\n",
    "num_bins = 15\n",
    "counts, bin_edges = np.histogram(data, bins=num_bins)\n",
    "\n",
    "# Plot histogram using plt.bar() with bin edges and counts\n",
    "plt.bar(bin_edges[:-1], counts, width=np.diff(bin_edges), color='yellow', edgecolor='black', linewidth=1.2, label='Histogram')\n",
    "\n",
    "# Add title and labels\n",
    "plt.title(\"Bill Depth Distribution (mm)\")\n",
    "plt.xlabel(\"Depth (mm)\")\n",
    "plt.ylabel(\"Frequency\")\n",
    "\n",
    "# Calculate positions for tick labels at bin edges\n",
    "tick_positions = bin_edges  # Use bin edges as tick positions\n",
    "\n",
    "# Set custom x-axis tick positions and labels\n",
    "plt.xticks(tick_positions, labels=[f\"{bin_edge:.1f}\" for bin_edge in bin_edges], rotation=45, fontsize=8)\n",
    "\n",
    "# Fit a normal distribution to the data\n",
    "mu, std = norm.fit(data)  # Estimate mean (mu) and standard deviation (std) of the data\n",
    "\n",
    "# Generate x values for the normal distribution curve\n",
    "x = np.linspace(min(data), max(data), 100)\n",
    "pdf = norm.pdf(x, mu, std)  # Calculate the probability density function (PDF) for the normal distribution\n",
    "\n",
    "# Plot the normal distribution curve (bell-shaped line)\n",
    "plt.plot(x, pdf * len(data) * np.diff(bin_edges)[0], 'r-', linewidth=2, label='Normal Distribution')\n",
    "\n",
    "# Calculate the mean and median of the data\n",
    "mean_depth = np.mean(data)\n",
    "median_depth = np.median(data)\n",
    "\n",
    "# Add vertical lines at the mean and median values\n",
    "plt.axvline(mean_depth, color='green', linestyle='dashed', linewidth=2, label='Mean Depth')\n",
    "plt.axvline(median_depth, color='blue', linestyle='dashed', linewidth=2, label='Median Depth')\n",
    "\n",
    "# Create legend handles and labels for different groups of legends\n",
    "handles, labels = plt.gca().get_legend_handles_labels()\n",
    "\n",
    "# Create legend for left side (Histogram and Normal Distribution)\n",
    "left_legend = plt.legend(handles[:2], labels[:2], loc='upper left')\n",
    "\n",
    "# Create legend for right side (Mean Depth and Median Depth)\n",
    "right_legend = plt.legend(handles[2:], labels[2:], loc='upper right')\n",
    "\n",
    "# Add both legends to the plot\n",
    "plt.gca().add_artist(left_legend)\n",
    "plt.gca().add_artist(right_legend)\n"
   ]
  },
  {
   "cell_type": "markdown",
   "metadata": {},
   "source": [
    "This histrogram displays a symmetric distribution (bell-shaped). From the Summary Statistics section it was observed that the value for the mean is 17.15 mm. The median can be seen in the histogram intersecting the bin value of 17.30 mm. The median and mean values are very close to each other which confirms the symmetric distribution (in text citation Normal Distribution).\n",
    "Though this histrogram follows a normal distribution, it is possible to observe a small deformation on the left side of the graphic between the second and forth bin, and slightly to the right of the center of the histogram on the 11th bin. This might be due to the nature of the dataset that accounts for penguins of different species, islands, sex and sizes. Further investigation needs to be carried out analysing the correlation of the bill depth of the penguins with the other variables of this dataset (in text citation Tableau).\n"
   ]
  },
  {
   "cell_type": "markdown",
   "metadata": {},
   "source": [
    "## Correlation between Penguins' bill length and flipper length.\n",
    "\n",
    "An investigation is set up to confirm the correlation between the penguins bill depth and \n",
    "A box plot chart seems to be appropriate to analyse the relationship between penguins' islands and their bill length (Medium, 2022).     \n",
    "Anova is used for this analysis to confirm if there are signficant differences among penguins' bill depth across the different islands (Banerjee, 2023).      \n",
    "Before plotting the chart, it is important to first state the null hypothesis (H0) and alternative hyphotesis (H1) of this investigation (in text citation Introduction to Hypothesis Testing):\n",
    "- H0: The mean bill depth of penguins are equal across the three islands.\n",
    "- H1: The mean bill depth differs across at least one island.\n",
    "\n",
    "For this investigation a 95 % confidence is appropriate, which gives an alpha of 0.05. The Anova table generates a table with a p-value which is used to compared againts the alpha to prove the null hypothesis (Interpret Anova in text citation). In other words:\n",
    "- If p-value > alpha: The difference among the penguins bill depth means across the islands are not statistically signficant and the null hypothesis can not be rejected.\n",
    "- If p-value < = alpha: There is a statistically signficant difference between some of the means and the alternative hypothesis is true.\n",
    "\n"
   ]
  },
  {
   "cell_type": "code",
   "execution_count": 226,
   "metadata": {},
   "outputs": [
    {
     "data": {
      "text/plain": [
       "0      39.1\n",
       "1      39.5\n",
       "2      40.3\n",
       "4      36.7\n",
       "5      39.3\n",
       "       ... \n",
       "338    47.2\n",
       "340    46.8\n",
       "341    50.4\n",
       "342    45.2\n",
       "343    49.9\n",
       "Name: bill_length_mm, Length: 342, dtype: float64"
      ]
     },
     "execution_count": 226,
     "metadata": {},
     "output_type": "execute_result"
    }
   ],
   "source": [
    "# Get just the bill depth.\n",
    "blen= df['bill_length_mm'].dropna()\n",
    "\n",
    "# Show\n",
    "blen"
   ]
  },
  {
   "cell_type": "markdown",
   "metadata": {},
   "source": []
  },
  {
   "cell_type": "code",
   "execution_count": 227,
   "metadata": {},
   "outputs": [
    {
     "data": {
      "text/plain": [
       "0      3750.0\n",
       "1      3800.0\n",
       "2      3250.0\n",
       "4      3450.0\n",
       "5      3650.0\n",
       "        ...  \n",
       "338    4925.0\n",
       "340    4850.0\n",
       "341    5750.0\n",
       "342    5200.0\n",
       "343    5400.0\n",
       "Name: body_mass_g, Length: 342, dtype: float64"
      ]
     },
     "execution_count": 227,
     "metadata": {},
     "output_type": "execute_result"
    }
   ],
   "source": [
    "# Get just the flipper length\n",
    "bmass = df['body_mass_g'].dropna()\n",
    "\n",
    "# Show\n",
    "bmass"
   ]
  },
  {
   "cell_type": "code",
   "execution_count": 220,
   "metadata": {},
   "outputs": [
    {
     "data": {
      "text/plain": [
       "0      Torgersen\n",
       "1      Torgersen\n",
       "2      Torgersen\n",
       "3      Torgersen\n",
       "4      Torgersen\n",
       "         ...    \n",
       "339       Biscoe\n",
       "340       Biscoe\n",
       "341       Biscoe\n",
       "342       Biscoe\n",
       "343       Biscoe\n",
       "Name: island, Length: 344, dtype: object"
      ]
     },
     "execution_count": 220,
     "metadata": {},
     "output_type": "execute_result"
    }
   ],
   "source": [
    "islands = df['island']\n",
    "\n",
    "islands"
   ]
  },
  {
   "cell_type": "markdown",
   "metadata": {},
   "source": [
    "### Add a Best Fit Line\n",
    "\n",
    "***"
   ]
  },
  {
   "cell_type": "markdown",
   "metadata": {},
   "source": [
    "$ y = mx + c = p_1 x^1 + p_0 = p_1 x + p_0$"
   ]
  },
  {
   "cell_type": "code",
   "execution_count": 229,
   "metadata": {},
   "outputs": [
    {
     "data": {
      "text/plain": [
       "(87.4152770528756, 362.30672165392207)"
      ]
     },
     "execution_count": 229,
     "metadata": {},
     "output_type": "execute_result"
    }
   ],
   "source": [
    "#Fit a straight line between x and y.\n",
    "m, c = np.polyfit(blen, bmass, 1)\n",
    "\n",
    "# Show m and C.\n",
    "m, c"
   ]
  },
  {
   "cell_type": "code",
   "execution_count": 232,
   "metadata": {},
   "outputs": [],
   "source": [
    "# x values for best fit line.\n",
    "bf_x = np.linspace (30, 60, 100)\n",
    "\n",
    "# y values for best fit line.\n",
    "bf_y = m * bf_x + c"
   ]
  },
  {
   "cell_type": "code",
   "execution_count": 236,
   "metadata": {},
   "outputs": [
    {
     "data": {
      "image/png": "[encoded data removed]",
      "text/plain": [
       "<Figure size 640x480 with 1 Axes>"
      ]
     },
     "metadata": {},
     "output_type": "display_data"
    }
   ],
   "source": [
    "# Create a new figure and set of axes.\n",
    "fig, ax = plt.subplots()\n",
    "\n",
    "# Sample plot with islands categorization.\n",
    "sns.scatterplot(data=df, x=blen, y=bmass, hue=islands, ax=ax)\n",
    "\n",
    "# Plot the best fit line.\n",
    "ax.plot(bf_x, bf_y, 'r-', label='Best Fit Line')\n",
    "\n",
    "# Axis labels.\n",
    "ax.set_xlabel('Bill Length (mm)')\n",
    "ax.set_ylabel('Body Mass (g)')\n",
    "\n",
    "# Title.\n",
    "ax.set_title('Penguins Bill Length x Body Mass grouped by island')\n",
    "\n",
    "# X Limits.\n",
    "ax.set_xlim(30, 60)\n",
    "\n",
    "# Y Limits.\n",
    "ax.set_ylim(2500, 6500)\n",
    "\n",
    "# Show the legend.\n",
    "ax.legend()\n",
    "\n",
    "# Show the plot.\n",
    "plt.show()"
   ]
  },
  {
   "cell_type": "code",
   "execution_count": 234,
   "metadata": {},
   "outputs": [
    {
     "data": {
      "text/plain": [
       "array([[1.        , 0.59510982],\n",
       "       [0.59510982, 1.        ]])"
      ]
     },
     "execution_count": 234,
     "metadata": {},
     "output_type": "execute_result"
    }
   ],
   "source": [
    "\n",
    "# Measure the correlation\n",
    "np.corrcoef(blen,bmass)"
   ]
  },
  {
   "cell_type": "markdown",
   "metadata": {},
   "source": [
    "These boxplots clearly highlight the difference in bill depth between penguins from Biscoe island and the other islands. 50% of data from the bill depth of penguins from the Biscoe island are below 17.00 mm while the other islands have 50% of their penguins with bill depth above 17.35 mm. To support further analysis, the bill depth mean was identified in each box plots and a line links all the means. The line shows how the mean for the bill depth of penguins from Biscoe island is totally far from being aligned with the mean from the other islands. \n",
    "An interesting point is that the penguins from Dream and Torgersen island have the same bill depth media of 18.40 mm and very similar mean. Also, their media are very close to their mean which support a symmetric distribution.\n",
    "On the other hand, the mean of the bill depth of penguins from Biscoe island is observed to be a bit above of its media. In addition, the location of the media is closer a bit to the first fist quartile which gives signs of assymetric distribution with data right skewed (Rumsey, 2021) \n",
    "The Anova table supports the box plots analysis as the resultant p-value (PR=2.5 * 10 ^-38) is less than alpha (0.05). Therefore, the null hypothesis is rejected and the alternative hypothesis is true, proving that there is statistically signficant difference between at least one of the means. In this case, the difference is evident to be caused mainly by the bill depth of the penguins from Biscoe island."
   ]
  },
  {
   "cell_type": "markdown",
   "metadata": {},
   "source": [
    "## Opportunities for further investigation\n",
    "More investigation can be conducted by looking into the different species of penguins in the island of Biscoe as well as their sex. This could help to explain the skewness of the data observed in the box plot for the bill length of penguins from Biscoe island."
   ]
  },
  {
   "cell_type": "markdown",
   "metadata": {},
   "source": [
    "## Conclusion"
   ]
  },
  {
   "cell_type": "markdown",
   "metadata": {},
   "source": [
    "## References:\n",
    "\n",
    "<a id=\"1\">[1]</a> Horst, A. (no date) The Palmer Archipelago penguins. Available at: https://allisonhorst.github.io/palmerpenguins/reference/figures/lter_penguins.png (Accessed: 29 April 2024)\n",
    "\n",
    "<a id=\"2\">[2]</a> Waskom, M. (2020) penguins.csv, GitHub. Available at: https://raw.githubusercontent.com/mwaskom/seaborn-data/master/penguins.csv\n",
    "\n",
    "<a id=\"3\">[3]</a> Pandas (2024) NVIDIA Data Science Glossary. Available at: https://www.nvidia.com/en-us/glossary/pandas-python/#:~:text=Benefits%20of%20Pandas&text=Easy%20handling%20of%20missing%20data,DataFrames%20and%20higher%2Ddimensional%20objects (Accessed: 29 April 2024). \n",
    "\n",
    "<a id=\"4\">[4]</a> Parker, K. (2020) Data Analysis in python: Getting started with pandas, Medium. Available at: https://towardsdatascience.com/data-analysis-in-python-getting-started-with-pandas-8cbcc1500c83 \n",
    "\n",
    "<a id=\"5\">[5]</a> Hunter, J. (2007) \"Matplotlib: A 2D Graphics Environment\", Computing in Science & Engineering, vol. 9, no. 3, pp. 90-95. Available at: https://matplotlib.org/stable/users/explain/quick_start.html\n",
    "\n",
    "<a id=\"6\">[6]</a> Numpy quickstart# (2008-2022) NumPy quickstart - NumPy v1.26 Manual. Available at: https://numpy.org/doc/stable/user/quickstart.html (Accessed: 29 April 2024). \n",
    "\n",
    "<a id=\"7\">[7]</a> Pierian Training (2023) Working with scipy stats norm: A guide, Pierian Training. Available at: https://pieriantraining.com/working-with-scipy-stats-norm-a-guide/#:~:text=In%20Python%2C%20we%20can%20use,scale%20is%20the%20standard%20deviation \n",
    "\n",
    "<a id=\"8\">[8]</a> Abhi (2023) Exploring Seaborn: Part 1: Creating visualizations with scatter plots and line plots, Medium. Available at: https://codeabhi.medium.com/a-complete-guide-to-data-visualization-in-python-with-seaborn-part-11-58fefd99fed3#:~:text=To%20make%20a%20scatter%20plot,the%20plot%20will%20be%20blue\n",
    "\n",
    "<a id=\"9\">[9]</a> PANDAS.READ_CSV# (2024) pandas.read_csv - pandas 2.2.2 documentation. Available at: https://pandas.pydata.org/pandas-docs/stable/reference/api/pandas.read_csv.html (Accessed: 29 April 2024). \n",
    "\n",
    "<a id=\"10\">[10]</a> Sullivan, J. (2018) Data cleaning with python and pandas: Detecting missing values, Medium. Available at: https://towardsdatascience.com/data-cleaning-with-python-and-pandas-detecting-missing-values-3e9c6ebcf78b (Accessed: 29 April 2024). \n",
    "\n",
    "<a id=\"11\">[11]</a> Pandas.dataframe.sample# (2024) pandas.DataFrame.sample - pandas 2.2.2 documentation. Available at: https://pandas.pydata.org/pandas-docs/stable/reference/api/pandas.DataFrame.sample.html (Accessed: 29 April 2024). \n",
    "\n",
    "<a id=\"12\">[12]</a> Bhandari, P. (2023) Population vs. sample: Definitions, Differences & Examples, Scribbr. Available at: https://www.scribbr.com/methodology/population-vs-sample/#:~:text=Why%20are%20samples%20used%20in,effective%2C%20convenient%2C%20and%20manageable.\n",
    "\n",
    "https://github.com/mwaskom/seaborn/blob/master/README.md\n",
    "\n",
    "https://ianmcloughlin.github.io/2324_principles_of_data_analytics/\n",
    "\n",
    "https://www.geeksforgeeks.org/python-read-csv-using-pandas-read_csv/\n",
    "\n",
    "https://realpython.com/pandas-python-explore-dataset/\n",
    "\n",
    "https://uniskills.library.curtin.edu.au/numeracy/statistics/data-variable-types/\n",
    "\n",
    "https://pandas.pydata.org/docs/getting_started/intro_tutorials/06_calculate_statistics.html\n",
    "\n",
    "https://www.simplilearn.com/what-is-descriptive-statistics-article\n",
    "\n",
    "https://stackoverflow.com/questions/55394854/how-to-change-the-format-of-describe-output\n",
    "\n",
    "https://venngage.com/blog/bar-charts-vs-histograms/#:~:text=Although%20histograms%20and%20bar%20charts,of%20variables%20in%20a%20dataset\n",
    "\n",
    "https://web.stanford.edu/group/stanfordbirds/text/essays/Species_and_Speciation.html#:~:text=Geographic%20variation%20%2D%2D%20birds%20showing,natural%20selection%20in%20different%20habitats\n",
    "\n",
    "https://www.freecodecamp.org/news/matplotlib-figure-size-change-plot-size-in-python/\n",
    "\n",
    "https://www.tutorialspoint.com/matplotlib/matplotlib_bar_plot.htm\n",
    "\n",
    "https://www.geeksforgeeks.org/adding-value-labels-on-a-matplotlib-bar-chart/\n",
    "\n",
    "https://www.w3schools.com/python/matplotlib_labels.asp\n",
    "\n",
    "https://www.pythoncharts.com/matplotlib/rotating-axis-labels/\n",
    "\n",
    "https://www.ncbi.nlm.nih.gov/pmc/articles/PMC4296634/\n",
    "\n",
    "https://datascientest.com/en/calculate-correlation-between-two-variables-how-do-you-measure-dependence#:~:text=Correlation%20between%20two%20categorical%20variables%20%3A&text=It%20consists%20of%20rejecting%20or,variables%20being%20tested%20are%20independent”\n",
    "\n",
    "https://leanscape.io/histogram-a-comprehensive-guide/\n",
    "\n",
    "https://medium.com/@HalderNilimesh/exploring-normal-distribution-statistical-analysis-and-data-interpretation-c3bbd4be446d\n",
    "\n",
    "https://www.investopedia.com/terms/a/anova.asp\n",
    "\n",
    "https://www.scribbr.com/statistics/pearson-correlation-coefficient/\n",
    "\n",
    "https://dietassessmentprimer.cancer.gov/learn/distribution.html#:~:text=A%20variable%20that%20is%20normally,to%20describe%20departures%20from%20normality\n",
    "\n",
    "https://www.tableau.com/data-insights/reference-library/visual-analytics/charts/histograms#:~:text=A%20histogram%20tracks%20the%20different,bar%20as%20bins%20or%20classes\n",
    "\n",
    "https://medium.com/@daython3/7-essential-plots-for-categorical-and-numerical-data-4b96c0278106\n",
    "\n",
    "https://www.ncl.ac.uk/webtemplate/ask-assets/external/maths-resources/psychology/introduction-to-hypothesis-testing.html#:~:text=The%20null%20hypothesis%20is%20the,to%20reject%20the%20null%20hypothesis.\n",
    "\n",
    "https://medium.com/@chandradip93/anova-and-chi-square-aea693c4eb96#:~:text=In%20summary%2C%20ANOVA%20is%20used,or%20independence%20between%20categorical%20variables\n",
    "\n",
    "https://www.geeksforgeeks.org/box-plot-in-python-using-matplotlib/\n",
    "\n",
    "https://support.minitab.com/en-us/minitab/help-and-how-to/statistical-modeling/anova/how-to/one-way-anova/interpret-the-results/key-results/#:~:text=The%20null%20hypothesis%20states%20that,there%20is%20no%20actual%20difference\n",
    "\n",
    "https://www.dummies.com/article/academics-the-arts/math/statistics/what-a-boxplot-can-tell-you-about-a-statistical-data-set-169773/#\n",
    "\n"
   ]
  },
  {
   "cell_type": "markdown",
   "metadata": {},
   "source": [
    "***\n",
    "### End"
   ]
  }
 ],
 "metadata": {
  "kernelspec": {
   "display_name": "base",
   "language": "python",
   "name": "python3"
  },
  "language_info": {
   "codemirror_mode": {
    "name": "ipython",
    "version": 3
   },
   "file_extension": ".py",
   "mimetype": "text/x-python",
   "name": "python",
   "nbconvert_exporter": "python",
   "pygments_lexer": "ipython3",
   "version": "3.11.5"
  }
 },
 "nbformat": 4,
 "nbformat_minor": 2
}
