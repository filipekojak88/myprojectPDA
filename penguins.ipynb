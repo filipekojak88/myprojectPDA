{
 "cells": [
  {
   "cell_type": "markdown",
   "metadata": {},
   "source": [
    "# Palmer Penguins\n",
    "\n",
    "This notebook contains my analysis of the famous palmer penguins dataset."
   ]
  },
  {
   "cell_type": "markdown",
   "metadata": {},
   "source": [
    "## Loading the Dataset\n",
    "\n",
    "The pandas library in Python has been used for this analysis as it is efficient, powerful, and flexible for analyzing tabular data with ease, leveraging Python's ecosystem (nvidia)."
   ]
  },
  {
   "cell_type": "code",
   "execution_count": 96,
   "metadata": {},
   "outputs": [],
   "source": [
    "# Data frames\n",
    "import pandas as pd\n",
    "\n",
    "# Import matplotlib\n",
    "import matplotlib.pyplot as plt \n",
    "\n",
    "# Import numpy\n",
    "import numpy as np\n",
    "\n",
    "# Import scipy\n",
    "from scipy.stats import norm"
   ]
  },
  {
   "cell_type": "markdown",
   "metadata": {},
   "source": [
    "The penguin csv file used for this analysis was from the [Seaborn](https://github.com/mwaskom/seaborn/blob/master/README.md)'s repository as recommended on the Assessment Instructions for the module of Principles of Data Analytics (in text citation here)."
   ]
  },
  {
   "cell_type": "code",
   "execution_count": 33,
   "metadata": {},
   "outputs": [],
   "source": [
    "# Load the penguins data set (read_csv_using).\n",
    "df = pd.read_csv('https://raw.githubusercontent.com/mwaskom/seaborn-data/master/penguins.csv')"
   ]
  },
  {
   "cell_type": "markdown",
   "metadata": {},
   "source": [
    "## Exploring the Dataset\n",
    "\n",
    "The structure of the penguins dataset can be understood by looking into it."
   ]
  },
  {
   "cell_type": "code",
   "execution_count": 34,
   "metadata": {},
   "outputs": [
    {
     "data": {
      "text/html": [
       "<div>\n",
       "<style scoped>\n",
       "    .dataframe tbody tr th:only-of-type {\n",
       "        vertical-align: middle;\n",
       "    }\n",
       "\n",
       "    .dataframe tbody tr th {\n",
       "        vertical-align: top;\n",
       "    }\n",
       "\n",
       "    .dataframe thead th {\n",
       "        text-align: right;\n",
       "    }\n",
       "</style>\n",
       "<table border=\"1\" class=\"dataframe\">\n",
       "  <thead>\n",
       "    <tr style=\"text-align: right;\">\n",
       "      <th></th>\n",
       "      <th>species</th>\n",
       "      <th>island</th>\n",
       "      <th>bill_length_mm</th>\n",
       "      <th>bill_depth_mm</th>\n",
       "      <th>flipper_length_mm</th>\n",
       "      <th>body_mass_g</th>\n",
       "      <th>sex</th>\n",
       "    </tr>\n",
       "  </thead>\n",
       "  <tbody>\n",
       "    <tr>\n",
       "      <th>0</th>\n",
       "      <td>Adelie</td>\n",
       "      <td>Torgersen</td>\n",
       "      <td>39.1</td>\n",
       "      <td>18.7</td>\n",
       "      <td>181.0</td>\n",
       "      <td>3750.0</td>\n",
       "      <td>MALE</td>\n",
       "    </tr>\n",
       "    <tr>\n",
       "      <th>1</th>\n",
       "      <td>Adelie</td>\n",
       "      <td>Torgersen</td>\n",
       "      <td>39.5</td>\n",
       "      <td>17.4</td>\n",
       "      <td>186.0</td>\n",
       "      <td>3800.0</td>\n",
       "      <td>FEMALE</td>\n",
       "    </tr>\n",
       "    <tr>\n",
       "      <th>2</th>\n",
       "      <td>Adelie</td>\n",
       "      <td>Torgersen</td>\n",
       "      <td>40.3</td>\n",
       "      <td>18.0</td>\n",
       "      <td>195.0</td>\n",
       "      <td>3250.0</td>\n",
       "      <td>FEMALE</td>\n",
       "    </tr>\n",
       "    <tr>\n",
       "      <th>3</th>\n",
       "      <td>Adelie</td>\n",
       "      <td>Torgersen</td>\n",
       "      <td>NaN</td>\n",
       "      <td>NaN</td>\n",
       "      <td>NaN</td>\n",
       "      <td>NaN</td>\n",
       "      <td>NaN</td>\n",
       "    </tr>\n",
       "    <tr>\n",
       "      <th>4</th>\n",
       "      <td>Adelie</td>\n",
       "      <td>Torgersen</td>\n",
       "      <td>36.7</td>\n",
       "      <td>19.3</td>\n",
       "      <td>193.0</td>\n",
       "      <td>3450.0</td>\n",
       "      <td>FEMALE</td>\n",
       "    </tr>\n",
       "    <tr>\n",
       "      <th>...</th>\n",
       "      <td>...</td>\n",
       "      <td>...</td>\n",
       "      <td>...</td>\n",
       "      <td>...</td>\n",
       "      <td>...</td>\n",
       "      <td>...</td>\n",
       "      <td>...</td>\n",
       "    </tr>\n",
       "    <tr>\n",
       "      <th>339</th>\n",
       "      <td>Gentoo</td>\n",
       "      <td>Biscoe</td>\n",
       "      <td>NaN</td>\n",
       "      <td>NaN</td>\n",
       "      <td>NaN</td>\n",
       "      <td>NaN</td>\n",
       "      <td>NaN</td>\n",
       "    </tr>\n",
       "    <tr>\n",
       "      <th>340</th>\n",
       "      <td>Gentoo</td>\n",
       "      <td>Biscoe</td>\n",
       "      <td>46.8</td>\n",
       "      <td>14.3</td>\n",
       "      <td>215.0</td>\n",
       "      <td>4850.0</td>\n",
       "      <td>FEMALE</td>\n",
       "    </tr>\n",
       "    <tr>\n",
       "      <th>341</th>\n",
       "      <td>Gentoo</td>\n",
       "      <td>Biscoe</td>\n",
       "      <td>50.4</td>\n",
       "      <td>15.7</td>\n",
       "      <td>222.0</td>\n",
       "      <td>5750.0</td>\n",
       "      <td>MALE</td>\n",
       "    </tr>\n",
       "    <tr>\n",
       "      <th>342</th>\n",
       "      <td>Gentoo</td>\n",
       "      <td>Biscoe</td>\n",
       "      <td>45.2</td>\n",
       "      <td>14.8</td>\n",
       "      <td>212.0</td>\n",
       "      <td>5200.0</td>\n",
       "      <td>FEMALE</td>\n",
       "    </tr>\n",
       "    <tr>\n",
       "      <th>343</th>\n",
       "      <td>Gentoo</td>\n",
       "      <td>Biscoe</td>\n",
       "      <td>49.9</td>\n",
       "      <td>16.1</td>\n",
       "      <td>213.0</td>\n",
       "      <td>5400.0</td>\n",
       "      <td>MALE</td>\n",
       "    </tr>\n",
       "  </tbody>\n",
       "</table>\n",
       "<p>344 rows × 7 columns</p>\n",
       "</div>"
      ],
      "text/plain": [
       "    species     island  bill_length_mm  bill_depth_mm  flipper_length_mm  \\\n",
       "0    Adelie  Torgersen            39.1           18.7              181.0   \n",
       "1    Adelie  Torgersen            39.5           17.4              186.0   \n",
       "2    Adelie  Torgersen            40.3           18.0              195.0   \n",
       "3    Adelie  Torgersen             NaN            NaN                NaN   \n",
       "4    Adelie  Torgersen            36.7           19.3              193.0   \n",
       "..      ...        ...             ...            ...                ...   \n",
       "339  Gentoo     Biscoe             NaN            NaN                NaN   \n",
       "340  Gentoo     Biscoe            46.8           14.3              215.0   \n",
       "341  Gentoo     Biscoe            50.4           15.7              222.0   \n",
       "342  Gentoo     Biscoe            45.2           14.8              212.0   \n",
       "343  Gentoo     Biscoe            49.9           16.1              213.0   \n",
       "\n",
       "     body_mass_g     sex  \n",
       "0         3750.0    MALE  \n",
       "1         3800.0  FEMALE  \n",
       "2         3250.0  FEMALE  \n",
       "3            NaN     NaN  \n",
       "4         3450.0  FEMALE  \n",
       "..           ...     ...  \n",
       "339          NaN     NaN  \n",
       "340       4850.0  FEMALE  \n",
       "341       5750.0    MALE  \n",
       "342       5200.0  FEMALE  \n",
       "343       5400.0    MALE  \n",
       "\n",
       "[344 rows x 7 columns]"
      ]
     },
     "execution_count": 34,
     "metadata": {},
     "output_type": "execute_result"
    }
   ],
   "source": [
    "# Look into the data structure\n",
    "df"
   ]
  },
  {
   "cell_type": "markdown",
   "metadata": {},
   "source": [
    "The following assumptions can be made by looking into the structure of this dataset:\n",
    "<ol>\n",
    "<li>There are 7 columns with 7 variables.</li>\n",
    "<li>This dataset is composed by 344 rows.</li>\n",
    "<li>Some rows of the dataset have NaN.</li> \n",
    "</ol>"
   ]
  },
  {
   "cell_type": "markdown",
   "metadata": {},
   "source": [
    "## Review Dataset Information\n",
    "\n",
    "To choose the right statistical tests to analyse the dataset, the data types have to be identified for each column of the dataset as well as the count of non-null data (Pandas Python Explore Dataset, Data Variable Types). "
   ]
  },
  {
   "cell_type": "code",
   "execution_count": 35,
   "metadata": {},
   "outputs": [
    {
     "name": "stdout",
     "output_type": "stream",
     "text": [
      "<class 'pandas.core.frame.DataFrame'>\n",
      "RangeIndex: 344 entries, 0 to 343\n",
      "Data columns (total 7 columns):\n",
      " #   Column             Non-Null Count  Dtype  \n",
      "---  ------             --------------  -----  \n",
      " 0   species            344 non-null    object \n",
      " 1   island             344 non-null    object \n",
      " 2   bill_length_mm     342 non-null    float64\n",
      " 3   bill_depth_mm      342 non-null    float64\n",
      " 4   flipper_length_mm  342 non-null    float64\n",
      " 5   body_mass_g        342 non-null    float64\n",
      " 6   sex                333 non-null    object \n",
      "dtypes: float64(4), object(3)\n",
      "memory usage: 18.9+ KB\n",
      "None\n"
     ]
    }
   ],
   "source": [
    "# Display dataset information\n",
    "print(df.info())"
   ]
  },
  {
   "cell_type": "markdown",
   "metadata": {},
   "source": [
    "## Types of Variables to Model the Data Set\n",
    "\n",
    "In the info provided above is shown that 4 of the 7 columns have a data type of float with 64 bits and the other 3 have a datatype identified as object. Object means the value is a string (Pandas Python Explore Dataset).     \n",
    "Categorical variables (species, island, and sex) are represented as objects in Palmers Penguins DataFrame and should be modeled as objects in Python to maintain their original category. The other variables as bill lenght, bill depth, flipper length and body mass are continuous numerical variables and should be represented as float64 in Python to reflect their decimal values and support the mathematical and statistical calculations such as the mean and  the standard deviations (In text citation for Data Variable Types). "
   ]
  },
  {
   "cell_type": "markdown",
   "metadata": {},
   "source": [
    "## Categorical Data and Bar Chart:\n",
    "\n",
    "To illustrate graphically and better display the comparison of contrast metrics of the data across the different categories the use of bar chart is suggested by Aditya Rana (2023). From the variables in the Palmers penguins dataset, any of the three categorical variable (species, island, and sex) can be appropriate for analysis. According to Enrich et all (1988), birds can demonstrate different characteristics based on their geograpical location. Therefore, for this analysis the location is considered to understand the impact that it has to the characteristics of the penguins. \n",
    "\n",
    "To start this analysis the count of each category within the column island is provided below."
   ]
  },
  {
   "cell_type": "code",
   "execution_count": 48,
   "metadata": {},
   "outputs": [
    {
     "data": {
      "text/plain": [
       "island\n",
       "Biscoe       168\n",
       "Dream        124\n",
       "Torgersen     52\n",
       "Name: count, dtype: int64"
      ]
     },
     "execution_count": 48,
     "metadata": {},
     "output_type": "execute_result"
    }
   ],
   "source": [
    "# Count the number of penguins of each island\n",
    "df['island'].value_counts()"
   ]
  },
  {
   "cell_type": "markdown",
   "metadata": {},
   "source": [
    "Then, the bar chart displays the count of penguins in this dataset that were identified in each island."
   ]
  },
  {
   "cell_type": "code",
   "execution_count": 54,
   "metadata": {},
   "outputs": [
    {
     "data": {
      "text/plain": [
       "(array([0, 1, 2]),\n",
       " [Text(0, 0, 'Biscoe'), Text(1, 0, 'Dream'), Text(2, 0, 'Torgersen')])"
      ]
     },
     "execution_count": 54,
     "metadata": {},
     "output_type": "execute_result"
    },
    {
     "data": {
      "image/png": "[encoded data removed]",
      "text/plain": [
       "<Figure size 800x600 with 1 Axes>"
      ]
     },
     "metadata": {},
     "output_type": "display_data"
    }
   ],
   "source": [
    "# Name the count of islands\n",
    "island_count = df['island'].value_counts()\n",
    "# Set the figure size (width, height)(in text citation figure size)\n",
    "plt.figure(figsize=(8, 6))\n",
    "# Plot the bar chart (Matplot in text citation)\n",
    "bars = island_count.plot(kind='bar',color='skyblue')\n",
    "\n",
    "# Add data labels (counts) on top of each bar (in text citation value label)\n",
    "for bar in bars.patches:\n",
    "    plt.annotate(format(bar.get_height(), '.0f'), \n",
    "                 (bar.get_x() + bar.get_width() / 2, bar.get_height()), \n",
    "                 ha='center', va='bottom', \n",
    "                 color='black', fontsize=12, fontweight='bold')\n",
    "\n",
    "# Add titles and labels to the bar chart (in text citation title and label)\n",
    "plt.title('Count of Penguins of Each Island')\n",
    "plt.xlabel('Island')\n",
    "plt.ylabel('Count')\n",
    "\n",
    "# Display the plot\n",
    "# Rotate the x-axis labels for better visibility (rotation in text citation)\n",
    "plt.xticks(rotation=0)"
   ]
  },
  {
   "cell_type": "markdown",
   "metadata": {},
   "source": [
    "From this bar chart, it is clear that the majority of the penguins that the data was collected from, were located in Biscoe island, which accounts for approximatelly 50% of all penguins. \n",
    "Only 1 in every 7 penguins from this dataset were from the Torgersen island.\n",
    "From this chart some conclusions can be drawn:\n",
    "- The variation in sample size from each island can influence further analysis and interpretation of the dataset (Sample Size variation in text citation). For instance, Biscoe island has the largest sample size and might provide more robust insigths of the penguins from that island than penguins from Torgersen.\n",
    "- Further analysis can be conducted to verify the species distribution within each island's dataset to ensure species composition is representative and does not skew the analysis (Correlation between two categorical variables). This is to confirm that no island hosts a predominant species which might affect the generalization about species physical characteristics."
   ]
  },
  {
   "cell_type": "markdown",
   "metadata": {},
   "source": [
    "## Summary Statistics\n",
    "\n",
    "For the continuous numerical data, descriptive statistics is used to get a summary and initial insights into the data (Calculate Statistics, What is descriptive statistics). "
   ]
  },
  {
   "cell_type": "code",
   "execution_count": null,
   "metadata": {},
   "outputs": [
    {
     "data": {
      "text/html": [
       "<div>\n",
       "<style scoped>\n",
       "    .dataframe tbody tr th:only-of-type {\n",
       "        vertical-align: middle;\n",
       "    }\n",
       "\n",
       "    .dataframe tbody tr th {\n",
       "        vertical-align: top;\n",
       "    }\n",
       "\n",
       "    .dataframe thead th {\n",
       "        text-align: right;\n",
       "    }\n",
       "</style>\n",
       "<table border=\"1\" class=\"dataframe\">\n",
       "  <thead>\n",
       "    <tr style=\"text-align: right;\">\n",
       "      <th></th>\n",
       "      <th>bill_length_mm</th>\n",
       "      <th>bill_depth_mm</th>\n",
       "      <th>flipper_length_mm</th>\n",
       "      <th>body_mass_g</th>\n",
       "    </tr>\n",
       "  </thead>\n",
       "  <tbody>\n",
       "    <tr>\n",
       "      <th>count</th>\n",
       "      <td>342.000000</td>\n",
       "      <td>342.000000</td>\n",
       "      <td>342.000000</td>\n",
       "      <td>342.000000</td>\n",
       "    </tr>\n",
       "    <tr>\n",
       "      <th>mean</th>\n",
       "      <td>43.921930</td>\n",
       "      <td>17.151170</td>\n",
       "      <td>200.915205</td>\n",
       "      <td>4201.754386</td>\n",
       "    </tr>\n",
       "    <tr>\n",
       "      <th>std</th>\n",
       "      <td>5.459584</td>\n",
       "      <td>1.974793</td>\n",
       "      <td>14.061714</td>\n",
       "      <td>801.954536</td>\n",
       "    </tr>\n",
       "    <tr>\n",
       "      <th>min</th>\n",
       "      <td>32.100000</td>\n",
       "      <td>13.100000</td>\n",
       "      <td>172.000000</td>\n",
       "      <td>2700.000000</td>\n",
       "    </tr>\n",
       "    <tr>\n",
       "      <th>25%</th>\n",
       "      <td>39.225000</td>\n",
       "      <td>15.600000</td>\n",
       "      <td>190.000000</td>\n",
       "      <td>3550.000000</td>\n",
       "    </tr>\n",
       "    <tr>\n",
       "      <th>50%</th>\n",
       "      <td>44.450000</td>\n",
       "      <td>17.300000</td>\n",
       "      <td>197.000000</td>\n",
       "      <td>4050.000000</td>\n",
       "    </tr>\n",
       "    <tr>\n",
       "      <th>75%</th>\n",
       "      <td>48.500000</td>\n",
       "      <td>18.700000</td>\n",
       "      <td>213.000000</td>\n",
       "      <td>4750.000000</td>\n",
       "    </tr>\n",
       "    <tr>\n",
       "      <th>max</th>\n",
       "      <td>59.600000</td>\n",
       "      <td>21.500000</td>\n",
       "      <td>231.000000</td>\n",
       "      <td>6300.000000</td>\n",
       "    </tr>\n",
       "  </tbody>\n",
       "</table>\n",
       "</div>"
      ],
      "text/plain": [
       "       bill_length_mm  bill_depth_mm  flipper_length_mm  body_mass_g\n",
       "count      342.000000     342.000000         342.000000   342.000000\n",
       "mean        43.921930      17.151170         200.915205  4201.754386\n",
       "std          5.459584       1.974793          14.061714   801.954536\n",
       "min         32.100000      13.100000         172.000000  2700.000000\n",
       "25%         39.225000      15.600000         190.000000  3550.000000\n",
       "50%         44.450000      17.300000         197.000000  4050.000000\n",
       "75%         48.500000      18.700000         213.000000  4750.000000\n",
       "max         59.600000      21.500000         231.000000  6300.000000"
      ]
     },
     "execution_count": 31,
     "metadata": {},
     "output_type": "execute_result"
    }
   ],
   "source": [
    "# Describe the data set.\n",
    "df.describe()"
   ]
  },
  {
   "cell_type": "markdown",
   "metadata": {},
   "source": [
    "The descriptive statistics reveal average measurements (mean) and their variability (standard deviation), highlighting significant diversity among penguins. Most penguins have bill lengths between 39.2 mm and 48.5 mm, bill depths between 15.6 mm and 18.7 mm, flipper lengths between 190.0 mm and 213.0 mm, and body masses ranging from 2,700.0 grams to 6,300.0 grams. Penguins body masses exhibits the highest variation (801.96 grams). These statistics provide key insights into the distribution and typical ranges of these attributes within the dataset."
   ]
  },
  {
   "cell_type": "markdown",
   "metadata": {},
   "source": [
    "## Continuous Numerical Data and Histogram\n",
    "\n",
    "Histograms are valuable for exploring and interpreting continuous numerical data due to their ability to reveal distributional patterns, identify outliers, and facilitate comparisons of data quantity within different bins according to Pannell, 2023. \n",
    "From the four variables of data type categorical numerical described above, bill_depth_mm shows the best distribution as its data seems to be relatively symmetric and less variable distribution compared to the others. Variables that the data are normal distributed has symmetry around the mean, which facilitates easier interpretation of the statistical results and application of several statistical techniques (Halder, 2024). In addition, variables with a normal distribution can be advantageous when analyzing their correlation with other variables as normality implies that the data points are symmetrically distributed around the mean, which often corresponds to a linear relationship between variables (Kenton, 2024 and Turney). Therefore for this analysis a histogram of the bill_depth_mm is generated."
   ]
  },
  {
   "cell_type": "code",
   "execution_count": 106,
   "metadata": {},
   "outputs": [
    {
     "data": {
      "text/plain": [
       "<matplotlib.legend.Legend at 0x1663aff90>"
      ]
     },
     "execution_count": 106,
     "metadata": {},
     "output_type": "execute_result"
    },
    {
     "data": {
      "image/png": "[encoded data removed]",
      "text/plain": [
       "<Figure size 640x480 with 1 Axes>"
      ]
     },
     "metadata": {},
     "output_type": "display_data"
    }
   ],
   "source": [
    "# Assuming 'df' is your DataFrame containing the data\n",
    "data = df['bill_depth_mm'].dropna()\n",
    "\n",
    "# Calculate histogram with specified number of bins\n",
    "num_bins = 10\n",
    "counts, bin_edges = np.histogram(data, bins=num_bins)\n",
    "\n",
    "# Plot histogram using plt.bar() with bin edges and counts\n",
    "plt.bar(bin_edges[:-1], counts, width=np.diff(bin_edges), color='yellow', edgecolor='black', linewidth=1.2, label='Histogram')\n",
    "\n",
    "# Add title and labels\n",
    "plt.title(\"Bill Depth Distribution (mm)\")\n",
    "plt.xlabel(\"Depth (mm)\")\n",
    "plt.ylabel(\"Frequency\")\n",
    "\n",
    "# Calculate positions for tick labels at bin edges\n",
    "tick_positions = bin_edges  # Use bin edges as tick positions\n",
    "\n",
    "# Set custom x-axis tick positions and labels\n",
    "plt.xticks(tick_positions, labels=[f\"{bin_edge:.1f}\" for bin_edge in bin_edges], rotation=45, fontsize=8)\n",
    "\n",
    "# Fit a normal distribution to the data\n",
    "mu, std = norm.fit(data)  # Estimate mean (mu) and standard deviation (std) of the data\n",
    "\n",
    "# Generate x values for the normal distribution curve\n",
    "x = np.linspace(min(data), max(data), 100)\n",
    "pdf = norm.pdf(x, mu, std)  # Calculate the probability density function (PDF) for the normal distribution\n",
    "\n",
    "# Plot the normal distribution curve (bell-shaped line)\n",
    "plt.plot(x, pdf * len(data) * np.diff(bin_edges)[0], 'r-', linewidth=2, label='Normal Distribution')\n",
    "\n",
    "# Calculate the mean and median of the data\n",
    "mean_depth = np.mean(data)\n",
    "median_depth = np.median(data)\n",
    "\n",
    "# Add vertical lines at the mean and median values\n",
    "plt.axvline(mean_depth, color='green', linestyle='dashed', linewidth=2, label='Mean Depth')\n",
    "plt.axvline(median_depth, color='blue', linestyle='dashed', linewidth=2, label='Median Depth')\n",
    "\n",
    "# Create legend handles and labels for different groups of legends\n",
    "handles, labels = plt.gca().get_legend_handles_labels()\n",
    "\n",
    "# Create legend for left side (Histogram and Normal Distribution)\n",
    "left_legend = plt.legend(handles[:2], labels[:2], loc='upper left')\n",
    "\n",
    "# Create legend for right side (Mean Depth and Median Depth)\n",
    "right_legend = plt.legend(handles[2:], labels[2:], loc='upper right')\n",
    "\n",
    "# Add both legends to the plot\n",
    "plt.gca().add_artist(left_legend)\n",
    "plt.gca().add_artist(right_legend)\n"
   ]
  },
  {
   "cell_type": "code",
   "execution_count": null,
   "metadata": {},
   "outputs": [],
   "source": []
  },
  {
   "cell_type": "markdown",
   "metadata": {},
   "source": [
    "This histrogram displays a symmetric distribution (bell-shaped). From the Summary Statistics section it was observed that the value for the mean is 17.15 mm. The median can be seen in the histogram intersecting the bin value of 17.30 mm. The median and mean values are very close to each other which confirms the symmetric distribution.\n"
   ]
  },
  {
   "cell_type": "markdown",
   "metadata": {},
   "source": [
    "References:\n",
    "\n",
    "https://www.nvidia.com/en-us/glossary/pandas-python/#:~:text=Benefits%20of%20Pandas&text=Easy%20handling%20of%20missing%20data,DataFrames%20and%20higher%2Ddimensional%20objects \n",
    "\n",
    "https://github.com/mwaskom/seaborn/blob/master/README.md\n",
    "\n",
    "https://ianmcloughlin.github.io/2324_principles_of_data_analytics/\n",
    "\n",
    "https://www.geeksforgeeks.org/python-read-csv-using-pandas-read_csv/\n",
    "\n",
    "https://realpython.com/pandas-python-explore-dataset/\n",
    "\n",
    "https://uniskills.library.curtin.edu.au/numeracy/statistics/data-variable-types/\n",
    "\n",
    "https://pandas.pydata.org/docs/getting_started/intro_tutorials/06_calculate_statistics.html\n",
    "\n",
    "https://www.simplilearn.com/what-is-descriptive-statistics-article\n",
    "\n",
    "https://stackoverflow.com/questions/55394854/how-to-change-the-format-of-describe-output\n",
    "\n",
    "https://venngage.com/blog/bar-charts-vs-histograms/#:~:text=Although%20histograms%20and%20bar%20charts,of%20variables%20in%20a%20dataset\n",
    "\n",
    "https://web.stanford.edu/group/stanfordbirds/text/essays/Species_and_Speciation.html#:~:text=Geographic%20variation%20%2D%2D%20birds%20showing,natural%20selection%20in%20different%20habitats\n",
    "\n",
    "https://www.freecodecamp.org/news/matplotlib-figure-size-change-plot-size-in-python/\n",
    "\n",
    "https://www.tutorialspoint.com/matplotlib/matplotlib_bar_plot.htm\n",
    "\n",
    "https://www.geeksforgeeks.org/adding-value-labels-on-a-matplotlib-bar-chart/\n",
    "\n",
    "https://www.w3schools.com/python/matplotlib_labels.asp\n",
    "\n",
    "https://www.pythoncharts.com/matplotlib/rotating-axis-labels/\n",
    "\n",
    "https://www.ncbi.nlm.nih.gov/pmc/articles/PMC4296634/\n",
    "\n",
    "https://datascientest.com/en/calculate-correlation-between-two-variables-how-do-you-measure-dependence#:~:text=Correlation%20between%20two%20categorical%20variables%20%3A&text=It%20consists%20of%20rejecting%20or,variables%20being%20tested%20are%20independent”\n",
    "\n",
    "https://leanscape.io/histogram-a-comprehensive-guide/\n",
    "\n",
    "https://medium.com/@HalderNilimesh/exploring-normal-distribution-statistical-analysis-and-data-interpretation-c3bbd4be446d\n",
    "\n",
    "https://www.investopedia.com/terms/a/anova.asp\n",
    "\n",
    "https://www.scribbr.com/statistics/pearson-correlation-coefficient/\n",
    "\n",
    "\n"
   ]
  },
  {
   "cell_type": "markdown",
   "metadata": {},
   "source": [
    "***\n",
    "### End"
   ]
  }
 ],
 "metadata": {
  "kernelspec": {
   "display_name": "base",
   "language": "python",
   "name": "python3"
  },
  "language_info": {
   "codemirror_mode": {
    "name": "ipython",
    "version": 3
   },
   "file_extension": ".py",
   "mimetype": "text/x-python",
   "name": "python",
   "nbconvert_exporter": "python",
   "pygments_lexer": "ipython3",
   "version": "3.11.5"
  }
 },
 "nbformat": 4,
 "nbformat_minor": 2
}
